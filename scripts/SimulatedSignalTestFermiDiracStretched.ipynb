{
 "cells": [
  {
   "cell_type": "markdown",
   "metadata": {},
   "source": [
    "# Testing the code on simulated signal\n",
    "\n",
    "This notebook provides tests of the `lalapps_pulsar_parameter_estimation_nested` code when running on fake Gaussian noise with a simulated signal injected into it. We run on signals that are progressively larger than the turn-over of a Fermi-Dirac prior to check that the signals can still be recovered, even when well into the exponential tail of the prior."
   ]
  },
  {
   "cell_type": "code",
   "execution_count": 1,
   "metadata": {
    "collapsed": true
   },
   "outputs": [],
   "source": [
    "# import required modules\n",
    "\n",
    "%matplotlib inline\n",
    "\n",
    "from __future__ import print_function, division\n",
    "\n",
    "import numpy as np\n",
    "import subprocess as sp\n",
    "import os\n",
    "import sys\n",
    "from scipy import optimize\n",
    "import matplotlib as mpl\n",
    "from matplotlib import pyplot as pl\n",
    "\n",
    "# these modules require lalapps\n",
    "from lalapps.pulsarpputils import *\n",
    "\n",
    "# some matplotlib configurations\n",
    "mplparams = { \\\n",
    "      'backend': 'Agg',\n",
    "      'text.usetex': True, # use LaTeX for all text\n",
    "      'axes.linewidth': 0.5, # set axes linewidths to 0.5\n",
    "      'axes.grid': True, # add a grid\n",
    "      'grid.linewidth': 0.5,\n",
    "      'font.family': 'sans-serif',\n",
    "      'font.sans-serif': 'Avant Garde, Helvetica, Computer Modern Sans serif',\n",
    "      'font.size': 15 }\n",
    "\n",
    "mpl.rcParams.update(mplparams)"
   ]
  },
  {
   "cell_type": "code",
   "execution_count": 2,
   "metadata": {
    "collapsed": true
   },
   "outputs": [],
   "source": [
    "def fermidirac_rsigma(ul, mufrac=0.4, cdf=0.95):\n",
    "    \"\"\"\n",
    "    Calculate the r and sigma parameter of the Fermi-Dirac distribution to be used.\n",
    "\n",
    "    Based on the definition of the distribution given in https://www.authorea.com/users/50521/articles/65214/_show_article\n",
    "    the distribution will be defined by a mu parameter at which the distribution has 50% of it's maximum\n",
    "    probability, and mufrac which is the fraction of mu defining the range from which the distribution falls from\n",
    "    97.5% of the maximum down to 2.5%. Using an upper limit defining a given cdf of the distribution the parameters\n",
    "    r and sigma will be returned.\n",
    "    \"\"\"\n",
    "\n",
    "    Z = 7.33 # factor that defined the 97.5% -> 2.5% probability attenuation band around mu\n",
    "    r = 0.5*Z/mufrac # set r\n",
    "\n",
    "    # using the Fermi-Dirac CDF to find sigma given a distribution where the cdf value is found at ul\n",
    "    solution = optimize.root(lambda s: cdf*np.log(1.+np.exp(r))-np.log(1.+np.exp(-r))-(ul/s)-np.log(1.+np.exp((ul/s)-r)), ul)\n",
    "    sigma = solution.x[0]\n",
    "\n",
    "    return r, sigma\n"
   ]
  },
  {
   "cell_type": "code",
   "execution_count": 3,
   "metadata": {
    "collapsed": true
   },
   "outputs": [],
   "source": [
    "# set up the run directories\n",
    "rundir = '.'\n",
    "if not os.path.isdir(rundir): # make the directory\n",
    "    os.makedirs(rundir)\n",
    "\n",
    "detector = 'H1'        # the detector to use\n",
    "psrname = 'J0000+0000' # a fake pulsar name\n",
    "\n",
    "# set the output directory\n",
    "outdir = os.path.join(rundir, 'output')\n",
    "if not os.path.isdir(outdir):\n",
    "    os.makedirs(outdir)\n",
    "\n",
    "# fake heterodyned data directory (for the lalapps_pulsar_parameter_estimation code\n",
    "# this must be dataDET, where DET is e.g. H1)\n",
    "datadir = os.path.join(rundir, 'data'+detector)\n",
    "if not os.path.isdir(datadir): # make the directory\n",
    "    os.makedirs(datadir)\n",
    "\n",
    "# set the executables (this assumes that you are using virtual environments with virtualenvwrapper.sh and\n",
    "# have a WORKON_HOME environment variable set, but you can change the path as required)\n",
    "virenv = 'lalapps_knope_O1' # name of your virtual environment\n",
    "execpath = os.path.join(os.environ['WORKON_HOME'], virenv)\n",
    "execpath = os.path.join(execpath, 'bin')\n",
    "\n",
    "ppenexec = os.path.join(execpath, 'lalapps_pulsar_parameter_estimation_nested')\n",
    "n2pexec = os.path.join(execpath, 'lalapps_nest2pos') # script to convert nested samples to posterior samples"
   ]
  },
  {
   "cell_type": "markdown",
   "metadata": {},
   "source": [
    "## Running the codes\n",
    "\n",
    "The code is run on random Gaussian noise with zero mean and a given standard deviation. I output a comparison plot between the posteriors produced for each realisation. I compare the upper limit produced from the nested-sampling-generated posterior and that calculated from the grid-based posterior. I also compare the run times for each implementation of the codes."
   ]
  },
  {
   "cell_type": "code",
   "execution_count": 4,
   "metadata": {
    "collapsed": false
   },
   "outputs": [],
   "source": [
    "# set up some general inputs\n",
    "\n",
    "# create a pulsar parameter (TEMPO-stype .par file) file format string\n",
    "pardat = \"\"\"PSRJ J0000+0000\n",
    "RAJ {}\n",
    "DECJ {}\n",
    "F0 123.4567890\n",
    "PEPOCH 56789.0\n",
    "EPHEM DE405\n",
    "\"\"\"\n",
    "\n",
    "# some defaults for the data generation\n",
    "sigma = 1.0e-22        # set data standard deviation\n",
    "dt = 60                # number of seconds between data points\n",
    "gpsstart = 900000000   # GPS start time of data\n",
    "duration = 864000      # duration of data (seconds) - 10 days\n",
    "gpstimes = np.arange(gpsstart, gpsstart+duration, dt) # time stamps\n",
    "dlen = len(gpstimes)   # length of data\n",
    "\n",
    "# get an estimate of the 95% credible upper limit to be expected\n",
    "ulest = 4.*10.8*np.sqrt(sigma**2/dlen)\n",
    "\n",
    "r, fdsigma = fermidirac_rsigma(ulest)\n",
    "\n",
    "h0trues = [ulest*200.]\n",
    "\n",
    "sigs = []\n",
    "snropts = []\n",
    "\n",
    "for h0true in h0trues:\n",
    "    # create the signal\n",
    "    pardict = {}\n",
    "    pardict['h0'] = h0true\n",
    "    pardict['psi'] = np.pi/4. # set polarisation angle\n",
    "    pardict['cosiota'] = 0.0 # set inclination\n",
    "    pardict['phi0'] = 1.3 # set rotational phase\n",
    "\n",
    "    # set a sky position\n",
    "    pardict['ra'] = 0.1\n",
    "    pardict['dec'] = -0.1\n",
    "\n",
    "    # generate signal\n",
    "    tssig, sig = heterodyned_pulsar_signal(gpsstart, duration, dt, detector, pardict)\n",
    "    sigs.append(sig)\n",
    "    \n",
    "    # calculate SNR\n",
    "    snropts.append(get_optimal_snr(sig[0], sigma))\n",
    "\n",
    "# create the prior file for the lalapps_pulsar_parameter_estimation_nested code\n",
    "# (PHI0 in here is rotational phase, whereas for the older code it is GW phase for trixial emission l=m=2)\n",
    "priorfile = os.path.join(rundir, 'pulsar.prior')\n",
    "priordat = \"\"\"H0 fermidirac {} {}\n",
    "PHI0 uniform 0 {}\n",
    "PSI uniform {} {}\n",
    "COSIOTA uniform -1 1\n",
    "\"\"\"\n",
    "fp = open(priorfile, 'w')\n",
    "# set the h0 upper range to be 6 times the expected upper limit \n",
    "fp.write(priordat.format(fdsigma, r, np.pi, 0.0, np.pi/2.))\n",
    "fp.close()\n",
    "\n",
    "# lalapps_pulsar_parameter_estimation_nested run parameters\n",
    "Nlive = '1024' # number of nested sample live points"
   ]
  },
  {
   "cell_type": "code",
   "execution_count": 5,
   "metadata": {
    "collapsed": false
   },
   "outputs": [
    {
     "name": "stdout",
     "output_type": "stream",
     "text": [
      "Read columns ['COSIOTA', 'H0', 'PHI0', 'PSI', 'deltalogL', 'deltaloglH1', 'logL', 'logPrior', 'logw', 'C22', 'CGW', 'F0', 'PHI0VECTOR', 'PHI22', 'PEPOCH', 'FREQNUM', 'PHI21', 'C21', 'DEC', 'PMRA', 'HPLUS', 'I31', 'Q22', 'HSCALARL', 'POSEPOCH', 'DIST', 'I21', 'PSITENSOR', 'IOTA', 'HSCALARB', 'PHI0TENSOR', 'HCROSS', 'PMDEC', 'COSTHETA', 'PX', 'RA', 'df', 'THETA', 'PSIVECTOR', 'F0_FIXED', 'HVECTORY', 'HVECTORX', 'PHI0SCALAR', 'PSISCALAR', 'LAMBDA']\n"
     ]
    }
   ],
   "source": [
    "postppens = []\n",
    "\n",
    "# create noise for data\n",
    "data = sigma*np.random.randn(dlen, 2)\n",
    "\n",
    "rah, ram, ras = rad_to_hms(pardict['ra'])\n",
    "decd, decm, decs = rad_to_dms(pardict['dec'])\n",
    "\n",
    "# output .par file containing right ascension and declination\n",
    "parfile = os.path.join(rundir, 'pulsar.par')\n",
    "fp = open(parfile, 'w')\n",
    "fp.write(pardat.format(coord_to_string(rah, ram, ras), coord_to_string(decd, decm, decs)))\n",
    "fp.close()\n",
    "\n",
    "for sig in sigs:\n",
    "    # add signal to data\n",
    "    thisdata = np.copy(data)\n",
    "    thisdata[:,0] = thisdata[:,0] + sig[0].real\n",
    "    thisdata[:,1] = thisdata[:,1] + sig[0].imag\n",
    "\n",
    "    # append times and data together\n",
    "    tad = np.vstack((gpstimes, thisdata.T)).T\n",
    "\n",
    "    # output fake data\n",
    "    datafile = os.path.join(datadir, 'finehet_'+psrname+'_'+detector)\n",
    "    np.savetxt(datafile, tad, fmt='%.6f %.7e %.7e', delimiter='\\t')\n",
    "    \n",
    "    # run lalapps_pulsar_parameter_estimation_nested\n",
    "    codecall = ' '.join([ppenexec, '--detectors', detector,\n",
    "                     '--par-file', parfile, '--prior-file', priorfile,\n",
    "                     '--input-files', datafile, '--outfile', os.path.join(outdir, 'fake_nest.hdf'),\n",
    "                     '--gzip', '--Nlive', Nlive, '--Nmcmcinitial', '0', '--oldChunks'])\n",
    "    p = sp.Popen(codecall, stdout=sp.PIPE, stderr=sp.PIPE, shell=True)\n",
    "    out, err = p.communicate()\n",
    "\n",
    "    # nested samples need to be converted to posterior samples with lalapps_nest2pos\n",
    "    if os.path.isfile(os.path.join(outdir, 'fake_post.hdf')):\n",
    "        os.remove(os.path.join(outdir, 'fake_post.hdf'))\n",
    "    codecall = ' '.join([n2pexec, '-p', os.path.join(outdir, 'fake_post.hdf'), os.path.join(outdir, 'fake_nest.hdf')])\n",
    "    p = sp.Popen(codecall, stdout=sp.PIPE, stderr=sp.PIPE, shell=True)\n",
    "    out, err = p.communicate()\n",
    "    \n",
    "    # get h0 upper limit from \n",
    "    post, evsig, evnoise = pulsar_nest_to_posterior(os.path.join(outdir, 'fake_post.hdf'))\n",
    "\n",
    "    postppens.append(post)"
   ]
  },
  {
   "cell_type": "code",
   "execution_count": 6,
   "metadata": {
    "collapsed": false
   },
   "outputs": [
    {
     "name": "stderr",
     "output_type": "stream",
     "text": [
      "/usr/local/lib/python2.7/dist-packages/ipykernel/__main__.py:26: RuntimeWarning: overflow encountered in exp\n"
     ]
    },
    {
     "data": {
      "image/png": "[encoded data removed]",
      "text/plain": [
       "<matplotlib.figure.Figure at 0x7ff14b65e650>"
      ]
     },
     "metadata": {},
     "output_type": "display_data"
    }
   ],
   "source": [
    "f, axarr = pl.subplots(2, 2, figsize=(8,8))\n",
    "\n",
    "gridparnames = {'h0': 'h0', 'phi0': 'phi', 'psi': 'psi', 'cosiota': 'ciota'}\n",
    "xlabels = {'h0': '$h_0$', 'phi0': '$\\phi_0$ (rads)', 'cosiota': '$\\cos{\\iota}$', 'psi': '$\\psi$ (rads)'}\n",
    "ylabels = {'h0': '$p(h_0|d,I)$', 'phi0': '$p(\\phi_0|d,I)$ (rads)', 'cosiota': '$p(\\cos{\\iota}|d,I)$', 'psi': '$p(\\psi|d,I)$ (rads)'}\n",
    "\n",
    "arr = {'h0': axarr[0, 0], 'phi0': axarr[0,1], 'cosiota': axarr[1,0], 'psi': axarr[1,1]}\n",
    "lims = {'h0': [0., None], 'phi0': [0., 2.*np.pi], 'cosiota': [-1., 1.], 'psi': [-np.pi/4., np.pi/4.]}\n",
    "# lalapps_pulsar_parameter_estimation_nested posterior samples\n",
    "\n",
    "colors = ['r', 'b', 'k']\n",
    "\n",
    "for i, postppen in enumerate(postppens):\n",
    "    truths = {'h0': h0trues[i], 'phi0': pardict['phi0'], 'psi': pardict['psi'], 'cosiota': pardict['cosiota']}\n",
    "    pos = postppens[i]\n",
    "    \n",
    "    for par in ['h0', 'phi0', 'psi', 'cosiota']:\n",
    "        arr[par].hist(pos[par].samples, bins=20, normed=True, color=colors[i], linewidth=1.5, histtype='step')\n",
    "        arr[par].set_xlabel(xlabels[par])\n",
    "        arr[par].set_ylabel(ylabels[par])\n",
    "        ylims = arr[par].get_ylim()\n",
    "        arr[par].plot([truths[par], truths[par]], ylims, '--', color=colors[i])\n",
    "\n",
    "valrange = np.linspace(0., arr['h0'].get_xlim()[1], 1000)\n",
    "mu = fdsigma*r\n",
    "vals = 1./((fdsigma*np.log(1.+np.exp(r)))*(np.exp((valrange-mu)/fdsigma)+1.))\n",
    "arr['h0'].plot(valrange, vals, '--', color='darkslategrey')\n",
    "arr['h0'].set_xlim([0., valrange[-1]])\n",
    "\n",
    "pl.tight_layout()"
   ]
  },
  {
   "cell_type": "code",
   "execution_count": 7,
   "metadata": {
    "collapsed": false
   },
   "outputs": [
    {
     "data": {
      "text/plain": [
       "[1028.8336640799221]"
      ]
     },
     "execution_count": 7,
     "metadata": {},
     "output_type": "execute_result"
    }
   ],
   "source": [
    "snropts"
   ]
  }
 ],
 "metadata": {
  "kernelspec": {
   "display_name": "Python 2",
   "language": "python",
   "name": "python2"
  },
  "language_info": {
   "codemirror_mode": {
    "name": "ipython",
    "version": 2
   },
   "file_extension": ".py",
   "mimetype": "text/x-python",
   "name": "python",
   "nbconvert_exporter": "python",
   "pygments_lexer": "ipython2",
   "version": "2.7.12"
  }
 },
 "nbformat": 4,
 "nbformat_minor": 0
}
