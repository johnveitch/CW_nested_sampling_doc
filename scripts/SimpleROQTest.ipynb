{
 "cells": [
  {
   "cell_type": "markdown",
   "metadata": {},
   "source": [
    "# Testing the code using Reduced Order Quadrature on simulated noise\n",
    "\n",
    "This notebook provides tests of the `lalapps_pulsar_parameter_estimation_nested` code running normally and running using a Reduced Order Quadrature (ROQ) to calculate an approximation of the likelihood. Generally the ROQ is designed to speed up the code in case where the likelihood is computationally burdensome (i.e. if having to recalculate the phase model over a long data set), but in this simple case we are just testing that the ROQ produces consistent results for an analysis where no phase parameters are explored.\n",
    "\n",
    "To do the comparisons the code is run in its standard configuration and then run with the likelihood calculated using the ROQ approximations."
   ]
  },
  {
   "cell_type": "code",
   "execution_count": 1,
   "metadata": {
    "collapsed": true
   },
   "outputs": [],
   "source": [
    "# import required modules\n",
    "\n",
    "%matplotlib inline\n",
    "\n",
    "from __future__ import print_function, division\n",
    "\n",
    "import numpy as np\n",
    "from scipy.signal import fftconvolve\n",
    "import subprocess as sp\n",
    "import os\n",
    "import sys\n",
    "import gzip\n",
    "from time import time\n",
    "import matplotlib as mpl\n",
    "from matplotlib import pyplot as pl\n",
    "import h5py\n",
    "\n",
    "# these modules require lalapps\n",
    "from lalapps.pulsarpputils import *\n",
    "\n",
    "# some matplotlib configurations\n",
    "mplparams = { \\\n",
    "      'backend': 'Agg',\n",
    "      'text.usetex': True, # use LaTeX for all text\n",
    "      'axes.linewidth': 0.5, # set axes linewidths to 0.5\n",
    "      'axes.grid': True, # add a grid\n",
    "      'grid.linewidth': 0.5,\n",
    "      'font.family': 'sans-serif',\n",
    "      'font.sans-serif': 'Avant Garde, Helvetica, Computer Modern Sans serif',\n",
    "      'font.size': 15 }\n",
    "\n",
    "mpl.rcParams.update(mplparams)"
   ]
  },
  {
   "cell_type": "code",
   "execution_count": 2,
   "metadata": {
    "collapsed": true
   },
   "outputs": [],
   "source": [
    "# set up the run directories\n",
    "rundir = '.'\n",
    "if not os.path.isdir(rundir): # make the directory\n",
    "    os.makedirs(rundir)\n",
    "\n",
    "detector = 'H1'        # the detector to use\n",
    "psrname = 'J0000+0000' # a fake pulsar name\n",
    "\n",
    "# set the output directory\n",
    "outdir = os.path.join(rundir, 'output')\n",
    "if not os.path.isdir(outdir):\n",
    "    os.makedirs(outdir)\n",
    "\n",
    "# fake heterodyned data directory (for the lalapps_pulsar_parameter_estimation code\n",
    "# this must be dataDET, where DET is e.g. H1)\n",
    "datadir = os.path.join(rundir, 'data'+detector)\n",
    "if not os.path.isdir(datadir): # make the directory\n",
    "    os.makedirs(datadir)\n",
    "\n",
    "# set the executables (this assumes that you are using virtual environments with virtualenvwrapper.sh and\n",
    "# have a WORKON_HOME environment variable set, but you can change the path as required)\n",
    "virenv = 'local' # name of your virtual environment\n",
    "execpath = os.path.join(os.environ['WORKON_HOME'], virenv)\n",
    "execpath = os.path.join(execpath, 'bin')\n",
    "\n",
    "ppenexec = os.path.join(execpath, 'lalapps_pulsar_parameter_estimation_nested')\n",
    "n2pexec = os.path.join(execpath, 'lalapps_nest2pos') # script to convert nested samples to posterior samples\n",
    "ppeexec = os.path.join(execpath, 'lalapps_pulsar_parameter_estimation')"
   ]
  },
  {
   "cell_type": "markdown",
   "metadata": {},
   "source": [
    "## Running the codes\n",
    "\n",
    "The code is run on random Gaussian noise with zero mean and a given standard deviation. I output a comparison plot between the posteriors produced with and without the ROQ. I compare the upper limits, evidences and maximum likelihoods produced by each method. I also compare the run times for each implementation of the code."
   ]
  },
  {
   "cell_type": "code",
   "execution_count": 3,
   "metadata": {
    "collapsed": true
   },
   "outputs": [],
   "source": [
    "# set up some general inputs\n",
    "\n",
    "# create a pulsar parameter (TEMPO-stype .par file) file format string\n",
    "pardat = \"\"\"PSRJ J0000+0000\n",
    "RAJ {}\n",
    "DECJ {}\n",
    "F0 123.4567890\n",
    "PEPOCH 56789.0\n",
    "EPHEM DE405\n",
    "\"\"\"\n",
    "\n",
    "# some defaults for the data generation\n",
    "sigma = 1.0e-22        # set data standard deviation\n",
    "dt = 60                # number of seconds between data points\n",
    "gpsstart = 900000000   # GPS start time of data\n",
    "duration = 864000      # duration of data (seconds) - 10 days\n",
    "gpstimes = np.arange(gpsstart, gpsstart+duration, dt) # time stamps\n",
    "dlen = len(gpstimes)   # length of data\n",
    "\n",
    "# get an estimate of the 95% credible upper limit to be expected\n",
    "ulest = 10.8*np.sqrt(sigma**2/dlen)\n",
    "\n",
    "# create the prior file for the lalapps_pulsar_parameter_estimation_nested code\n",
    "# (PHI0 in here is rotational phase, whereas for the older code it is GW phase for trixial emission l=m=2)\n",
    "priorfile = os.path.join(rundir, 'pulsar.prior')\n",
    "priordat = \"\"\"H0 uniform 0 {}\n",
    "PHI0 uniform 0 {}\n",
    "PSI uniform 0 {}\n",
    "COSIOTA uniform -1 1\n",
    "\"\"\"\n",
    "fp = open(priorfile, 'w')\n",
    "# set the h0 upper range to be 6 times the expected upper limit \n",
    "fp.write(priordat.format(ulest*6., np.pi, np.pi/2.))\n",
    "fp.close()\n",
    "\n",
    "# lalapps_pulsar_parameter_estimation_nested run parameters\n",
    "Nlive = '2048' # number of nested sample live points\n",
    "\n",
    "# ROQ setup\n",
    "ntraining = '1500'     # the number of training models to form the reduced basis\n",
    "roqtolerance = '1e-10' # the maximum allowed residuals between the training set and reduced basis\n",
    "roqfile = os.path.join(datadir, 'roq.bin') # a file to output the ROQ intepolants and nodes"
   ]
  },
  {
   "cell_type": "code",
   "execution_count": 8,
   "metadata": {
    "collapsed": false
   },
   "outputs": [
    {
     "name": "stdout",
     "output_type": "stream",
     "text": [
      "Read columns [u'COSIOTA', u'H0', u'PHI0', u'PSI', u'deltalogL', u'deltaloglH1', u'logL', u'logPrior', u'logw', u'HSCALARL', u'POSEPOCH', u'DIST', u'PHI21', u'I21', u'PSITENSOR', u'HSCALARB', u'PHI0TENSOR', u'HCROSS', u'PHI0VECTOR', u'PHI22', u'PMDEC', u'DEC', u'COSTHETA', u'RA', u'IOTA', u'CGW', u'C22', u'C21', u'df', u'I31', u'THETA', u'PSIVECTOR', u'F0', u'PEPOCH', u'PMRA', u'HPLUS', u'PSISCALAR', u'FREQNUM', u'Q22', u'HVECTORY', u'HVECTORX', u'PHI0SCALAR', u'LAMBDA']\n",
      "Read columns [u'COSIOTA', u'H0', u'PHI0', u'PSI', u'deltalogL', u'deltaloglH1', u'logL', u'logPrior', u'logw', u'HSCALARL', u'POSEPOCH', u'DIST', u'PHI21', u'I21', u'PSITENSOR', u'HSCALARB', u'PHI0TENSOR', u'HCROSS', u'PHI0VECTOR', u'PHI22', u'PMDEC', u'DEC', u'COSTHETA', u'RA', u'IOTA', u'CGW', u'C22', u'C21', u'df', u'I31', u'THETA', u'PSIVECTOR', u'F0', u'PEPOCH', u'PMRA', u'HPLUS', u'PSISCALAR', u'FREQNUM', u'Q22', u'HVECTORY', u'HVECTORX', u'PHI0SCALAR', u'LAMBDA']\n"
     ]
    }
   ],
   "source": [
    "# create data\n",
    "data = sigma*np.random.randn(dlen, 2)\n",
    "\n",
    "# append times and data together\n",
    "tad = np.vstack((gpstimes, data.T)).T\n",
    "\n",
    "# output fake data\n",
    "datafile = os.path.join(datadir, 'finehet_'+psrname+'_'+detector)\n",
    "np.savetxt(datafile, tad, fmt='%.6f %.7e %.7e', delimiter='\\t')\n",
    "    \n",
    "# create a random sky position from a uniform distribution on the sky\n",
    "rah, ram, ras = rad_to_hms(2.*np.pi*np.random.rand())\n",
    "decd, decm, decs = rad_to_dms(np.arccos(-1.+2.*np.random.rand()) - np.pi/2.)\n",
    "    \n",
    "# output .par file containing right ascension and declination\n",
    "parfile = os.path.join(rundir, 'pulsar.par')\n",
    "fp = open(parfile, 'w')\n",
    "fp.write(pardat.format(coord_to_string(rah, ram, ras), coord_to_string(decd, decm, decs)))\n",
    "fp.close()\n",
    "    \n",
    "# run lalapps_pulsar_parameter_estimation_nested in its standard mode\n",
    "codecall = ' '.join([ppenexec, '--detectors', detector,\n",
    "                     '--par-file', parfile, '--prior-file', priorfile,\n",
    "                     '--input-files', datafile, '--outhdf', os.path.join(outdir, 'fake_nest.hdf'),\n",
    "                     '--Nlive', Nlive, '--Nmcmcinitial', '0'])\n",
    "t0 = time()\n",
    "p = sp.Popen(codecall, stdout=sp.PIPE, stderr=sp.PIPE, shell=True)\n",
    "out, err = p.communicate()\n",
    "t1 = time()\n",
    "timenested = (t1-t0)\n",
    "    \n",
    "# nested samples need to be converted to posterior samples with lalapps_nest2pos\n",
    "codecall = ' '.join([n2pexec, '-p', os.path.join(outdir, 'fake_post.hdf'),\n",
    "                     os.path.join(outdir, 'fake_nest.hdf')])\n",
    "p = sp.Popen(codecall, stdout=sp.PIPE, stderr=sp.PIPE, shell=True)\n",
    "out, err = p.communicate()\n",
    "\n",
    "# get h0 upper limit\n",
    "post, evsig, evnoise = pulsar_nest_to_posterior(os.path.join(outdir, 'fake_post.hdf'))\n",
    "h0ul = upper_limit_greedy(post['h0'].samples, upperlimit=0.95)\n",
    "    \n",
    "h0ulnested = (h0ul)\n",
    "evratnested = (evsig-evnoise)\n",
    "\n",
    "# get the maximum likelihood\n",
    "evfile = h5py.File(os.path.join(outdir, 'fake_post.hdf'), 'r')\n",
    "maxlike = evfile['lalinference']['lalinference_nest'].attrs['log_max_likelihood']\n",
    "evfile.close()\n",
    "\n",
    "# run lalapps_pulsar_parameter_estimation using the ROQ (first run to generate the ROQ)\n",
    "codecall = ' '.join([ppenexec, '--detectors', detector,\n",
    "                     '--par-file', parfile, '--prior-file', priorfile,\n",
    "                     '--input-files', datafile, '--outhdf', os.path.join(outdir, 'fake_nest_roq.hdf'),\n",
    "                     '--Nlive', Nlive, '--Nmcmcinitial', '0', '--roq', '--roq-tolerance',\n",
    "                     roqtolerance, '--ntraining', ntraining, '--output-weights', roqfile])\n",
    "\n",
    "t0 = time()\n",
    "p = sp.Popen(codecall, stdout=sp.PIPE, stderr=sp.PIPE, shell=True)\n",
    "out, err = p.communicate()\n",
    "t1 = time()\n",
    "timegenerateroq = (t1-t0)\n",
    "\n",
    "# run lalapps_pulsar_parameter_estimation using the ROQ (using pregenerated ROQ)\n",
    "codecall = ' '.join([ppenexec, '--detectors', detector,\n",
    "                     '--par-file', parfile, '--prior-file', priorfile,\n",
    "                     '--input-files', datafile, '--outhdf', os.path.join(outdir, 'fake_nest_roq.hdf'),\n",
    "                     '--Nlive', Nlive, '--Nmcmcinitial', '0', '--roq',\n",
    "                     '--input-weights', roqfile])\n",
    "\n",
    "t0 = time()\n",
    "p = sp.Popen(codecall, stdout=sp.PIPE, stderr=sp.PIPE, shell=True)\n",
    "out, err = p.communicate()\n",
    "t1 = time()\n",
    "timeroq = (t1-t0)\n",
    "\n",
    "# nested samples need to be converted to posterior samples with lalapps_nest2pos\n",
    "codecall = ' '.join([n2pexec, '-p', os.path.join(outdir, 'fake_post_roq.hdf'),\n",
    "                     os.path.join(outdir, 'fake_nest_roq.hdf')])\n",
    "p = sp.Popen(codecall, stdout=sp.PIPE, stderr=sp.PIPE, shell=True)\n",
    "out, err = p.communicate()\n",
    "\n",
    "# get h0 upper limit\n",
    "postroq, evsigroq, evnoiseroq = pulsar_nest_to_posterior(os.path.join(outdir, 'fake_post_roq.hdf'))\n",
    "h0ulroq = upper_limit_greedy(postroq['h0'].samples, upperlimit=0.95)\n",
    "    \n",
    "h0ulnestedroq = (h0ulroq)\n",
    "evratnestedroq = (evsigroq-evnoiseroq)\n",
    "\n",
    "# get the maximum likelihood\n",
    "\n",
    "evfileroq = h5py.File(os.path.join(outdir, 'fake_post_roq.hdf'), 'r')\n",
    "maxlikeroq = evfileroq['lalinference']['lalinference_nest'].attrs['log_max_likelihood']\n",
    "evfileroq.close()"
   ]
  },
  {
   "cell_type": "code",
   "execution_count": 9,
   "metadata": {
    "collapsed": false
   },
   "outputs": [
    {
     "data": {
      "image/png": "[encoded data removed]",
      "text/plain": [
       "<matplotlib.figure.Figure at 0x7f3fa97380d0>"
      ]
     },
     "metadata": {},
     "output_type": "display_data"
    }
   ],
   "source": [
    "f, axarr = pl.subplots(2, 2, figsize=(8,8))\n",
    "\n",
    "params = ['h0', 'phi0', 'psi', 'cosiota']\n",
    "\n",
    "postppen = np.zeros((len(post['h0'].samples), len(params)))\n",
    "postppenroq = np.zeros((len(postroq['h0'].samples), len(params)))\n",
    "for i, p in enumerate(params):\n",
    "    postppen[:,i] = post[p].samples[:,0]\n",
    "    postppenroq[:,i] = postroq[p].samples[:,0]\n",
    "\n",
    "xlabels = {'h0': '$h_0$', 'phi0': '$\\phi_0$ (rads)', 'cosiota': '$\\cos{\\iota}$', 'psi': '$\\psi$ (rads)'}\n",
    "ylabels = {'h0': '$p(h_0|d,I)$', 'phi0': '$p(\\phi_0|d,I)$ (rads)', 'cosiota': '$p(\\cos{\\iota}|d,I)$', 'psi': '$p(\\psi|d,I)$ (rads)'}\n",
    "\n",
    "arr = {'h0': axarr[0, 0], 'phi0': axarr[0,1], 'cosiota': axarr[1,0], 'psi': axarr[1,1]}\n",
    "lims = {'h0': [0., None], 'phi0': [0., np.pi], 'cosiota': [-1., 1.], 'psi': [0., np.pi/2.]}\n",
    "for i, par in enumerate(params):\n",
    "    arr[par].hist(postppen[:,i], bins=20, normed=True, color='b', linewidth=1.5, histtype='step')\n",
    "    arr[par].hist(postppenroq[:,i], bins=20, normed=True, color='k', linewidth=1.5, histtype='step')\n",
    "    \n",
    "    arr[par].set_xlabel(xlabels[par])\n",
    "    arr[par].set_ylabel(ylabels[par])\n",
    "\n",
    "    if par == 'h0':\n",
    "        arr[par].legend(['Standard', 'ROQ'], loc=1)\n",
    "        xmin, xmax = arr[par].get_xlim()\n",
    "        arr[par].set_xlim([lims[par][0], xmax])\n",
    "    else:\n",
    "        arr[par].set_xlim(lims[par])\n",
    "\n",
    "pl.tight_layout()"
   ]
  },
  {
   "cell_type": "code",
   "execution_count": 10,
   "metadata": {
    "collapsed": false
   },
   "outputs": [
    {
     "name": "stdout",
     "output_type": "stream",
     "text": [
      "Difference in upper limits:\n",
      "h0 upper limit (standard) = 2.18e-23\n",
      "h0 upper limit (ROQ) = 2.17e-23\n",
      "\n",
      "\n",
      "Difference in evidence ratios:\n",
      "log(evidence ratio) (standard) = -1.327\n",
      "log(evidence ratio) (ROQ) = -1.364\n",
      "\n",
      "\n",
      "Difference in maximum likelihood values:\n",
      "log(max. likelihood) (standard) = 1417895.7205\n",
      "log(max. likelihood) (ROQ) = 1417895.7244\n",
      "\n",
      "\n",
      "Difference in code run times:\n",
      "run time (standard) = 105.0852\n",
      "run time (ROQ) = 115.6136\n",
      "time to generate ROQ = 10.4971\n"
     ]
    }
   ],
   "source": [
    "print(\"Difference in upper limits:\")\n",
    "print(\"h0 upper limit (standard) = %.2e\" % h0ulnested)\n",
    "print(\"h0 upper limit (ROQ) = %.2e\" % h0ulnestedroq)\n",
    "print(\"\\n\")\n",
    "print(\"Difference in evidence ratios:\")\n",
    "print(\"log(evidence ratio) (standard) = %.3f\" % evratnested)\n",
    "print(\"log(evidence ratio) (ROQ) = %.3f\" % evratnestedroq)\n",
    "print(\"\\n\")\n",
    "print(\"Difference in maximum likelihood values:\")\n",
    "print(\"log(max. likelihood) (standard) = %.4f\" % maxlike)\n",
    "print(\"log(max. likelihood) (ROQ) = %.4f\" % maxlikeroq)\n",
    "print(\"\\n\")\n",
    "print(\"Difference in code run times:\")\n",
    "print(\"run time (standard) = %.4f\" % timenested)\n",
    "print(\"run time (ROQ) = %.4f\" % timeroq)\n",
    "print(\"time to generate ROQ = %.4f\" % timegenerateroq)"
   ]
  },
  {
   "cell_type": "code",
   "execution_count": null,
   "metadata": {
    "collapsed": true
   },
   "outputs": [],
   "source": []
  }
 ],
 "metadata": {
  "kernelspec": {
   "display_name": "Python 2",
   "language": "python",
   "name": "python2"
  },
  "language_info": {
   "codemirror_mode": {
    "name": "ipython",
    "version": 2
   },
   "file_extension": ".py",
   "mimetype": "text/x-python",
   "name": "python",
   "nbconvert_exporter": "python",
   "pygments_lexer": "ipython2",
   "version": "2.7.6"
  }
 },
 "nbformat": 4,
 "nbformat_minor": 0
}
