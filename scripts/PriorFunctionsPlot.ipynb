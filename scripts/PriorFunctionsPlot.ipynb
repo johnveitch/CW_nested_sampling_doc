{
 "cells": [
  {
   "cell_type": "markdown",
   "metadata": {},
   "source": [
    "# Plots of the prior functions\n",
    "\n",
    "This notebook provides plots of the prior functions available in `lalapps_pulsar_parameter_estimation_nested`. The plots show samples drawn from the priors using the code and the analyitical form of the functions."
   ]
  },
  {
   "cell_type": "code",
   "execution_count": 1,
   "metadata": {
    "collapsed": true
   },
   "outputs": [],
   "source": [
    "%matplotlib inline\n",
    "\n",
    "import numpy as np\n",
    "import subprocess as sp\n",
    "import os\n",
    "\n",
    "# matplotlib\n",
    "import matplotlib as mpl\n",
    "from matplotlib import pyplot as pl\n",
    "\n",
    "# scipy\n",
    "from scipy import stats\n",
    "\n",
    "from lalapps.pulsarpputils import *\n",
    "from lalapps.pulsarhtmlutils import exp_str\n",
    "\n",
    "# some matplotlib configurations\n",
    "mplparams = { \\\n",
    "      'backend': 'Agg',\n",
    "      'text.usetex': True, # use LaTeX for all text\n",
    "      'axes.linewidth': 0.5, # set axes linewidths to 0.5\n",
    "      'axes.grid': True, # add a grid\n",
    "      'grid.linewidth': 0.5,\n",
    "      'font.family': 'sans-serif',\n",
    "      'font.sans-serif': 'Avant Garde, Helvetica, Computer Modern Sans serif',\n",
    "      'font.size': 15 }\n",
    "\n",
    "mpl.rcParams.update(mplparams)"
   ]
  },
  {
   "cell_type": "code",
   "execution_count": null,
   "metadata": {
    "collapsed": false
   },
   "outputs": [],
   "source": [
    "# the lalapps_pulsar_parameter_estimation_nested code requires are par file to run, so create this\n",
    "\n",
    "parfile = 'priorfunc.par'\n",
    "fp = open(parfile, 'w')\n",
    "par = \"\"\"PSRJ J0000+0000\n",
    "RAJ 00:00:00.0\n",
    "DECJ 00:00:00.0\n",
    "F0 100.0\n",
    "PEPOCH 50000\n",
    "\"\"\"\n",
    "fp.write(par)\n",
    "fp.close()\n",
    "\n",
    "# set up location of lalapps_pulsar_parameter_estimation_nested code\n",
    "virenv = 'lalapps_knope_O1' # name of your virtual environment\n",
    "execpath = os.path.join(os.environ['WORKON_HOME'], virenv)\n",
    "execpath = os.path.join(execpath, 'bin')\n",
    "\n",
    "ppenexec = os.path.join(execpath, 'lalapps_pulsar_parameter_estimation_nested')\n",
    "\n",
    "# number of samples from prior\n",
    "N = 50000\n",
    "\n",
    "# code call\n",
    "codecall = \"{} --par-file {} --prior-file {} --sampleprior {} --outfile samples.hdf --Nlive {} --fake-data H1 --Nmcmcinitial 0\"\n",
    "\n",
    "# remove samples file if it already exists \n",
    "if os.path.isfile('samples.hdf'):\n",
    "    os.remove('samples.hdf')"
   ]
  },
  {
   "cell_type": "markdown",
   "metadata": {},
   "source": [
    "## Uniform prior\n",
    "\n",
    "A uniform prior between some lower and upper bound. In this case the prior in on the $h_0$ parameter with a range between zero and $5\\,\\times\\,10^{-21}$."
   ]
  },
  {
   "cell_type": "code",
   "execution_count": null,
   "metadata": {
    "collapsed": false
   },
   "outputs": [],
   "source": [
    "# set the prior file\n",
    "priorfile = 'priorfunc.prior'\n",
    "fp = open(priorfile, 'w')\n",
    "prior = \"COSIOTA uniform 0.0 5e-21\"\n",
    "fp.write(prior)\n",
    "fp.close()\n",
    "\n",
    "# run code\n",
    "p = sp.Popen(codecall.format(ppenexec, parfile, priorfile, N, N), stdout=sp.PIPE, stderr=sp.PIPE, shell=True)\n",
    "out, err = p.communicate()\n",
    "\n",
    "# read in the samples\n",
    "samples, evsig, evnoise = pulsar_nest_to_posterior('samples.hdf', nestedsamples=True)\n",
    "\n",
    "# remove prior file\n",
    "os.remove(priorfile)"
   ]
  },
  {
   "cell_type": "code",
   "execution_count": null,
   "metadata": {
    "collapsed": false
   },
   "outputs": [],
   "source": [
    "# plot samples\n",
    "fig = pl.figure(figsize=(8,7))\n",
    "ax = fig.gca()\n",
    "\n",
    "ax.hist(samples['cosiota'].samples, bins=40, histtype='stepfilled', alpha=0.15, color='r', normed=True, edgecolor='none')\n",
    "\n",
    "# over plot analytical distribution\n",
    "x = np.linspace(-2e-21, 7e-21, 1000)\n",
    "rv = stats.uniform(loc=0.0, scale=5e-21)\n",
    "ax.plot(x, rv.pdf(x), color='r', linewidth=2)\n",
    "ax.set_xlim((x[0], x[-1]))\n",
    "ax.set_ylabel('Probability Density Function')\n",
    "ax.set_xlabel('Parameter')\n",
    "\n",
    "if not os.path.isdir('../figures/priors/uniform'):\n",
    "    os.makedirs('../figures/priors/uniform')\n",
    "\n",
    "fig.savefig('../figures/priors/uniform/uniform.png', dpi=300)\n",
    "fig.savefig('../figures/priors/uniform/uniform.pdf')\n",
    "# convert to eps\n",
    "p = sp.Popen('pdftops -eps ../figures/priors/uniform/uniform.pdf ../figures/priors/uniform/uniform.eps', stdout=sp.PIPE, stderr=sp.PIPE, shell=True)\n",
    "out, err = p.communicate()\n",
    "\n",
    "# write out caption\n",
    "fp = open('../figures/priors/uniform/caption.tex', 'w')\n",
    "fp.write(\"\"\"\\label{fig:prioruniform}\n",
    "Samples drawn from the uniform prior distribution.\n",
    "\"\"\")\n",
    "fp.close()"
   ]
  },
  {
   "cell_type": "markdown",
   "metadata": {},
   "source": [
    "## Fermi-Dirac prior\n",
    "\n",
    "A selection of Fermi-Dirac priors with different $\\mu$ and $\\sigma$ values. "
   ]
  },
  {
   "cell_type": "code",
   "execution_count": null,
   "metadata": {
    "collapsed": true
   },
   "outputs": [],
   "source": [
    "# set the prior file for a selection of three Fermi-Dirac priors\n",
    "\n",
    "sigmars = [(1e-21, 3.), (1.5e-21, 9.165), (1.7e-22, 150.)]\n",
    "samples = []\n",
    "\n",
    "for sigmar in sigmars:\n",
    "    priorfile = 'priorfunc.prior'\n",
    "    fp = open(priorfile, 'w')\n",
    "    prior = \"COSIOTA fermidirac {} {}\"\n",
    "    fp.write(prior.format(sigmar[0], sigmar[1]))\n",
    "    fp.close()\n",
    "\n",
    "    # run code\n",
    "    p = sp.Popen(codecall.format(ppenexec, parfile, priorfile, N, N), stdout=sp.PIPE, stderr=sp.PIPE, shell=True)\n",
    "    out, err = p.communicate()\n",
    "\n",
    "    # read in the samples\n",
    "    thissamples, evsig, evnoise = pulsar_nest_to_posterior('samples.hdf', nestedsamples=True)\n",
    "    samples.append(thissamples['cosiota'].samples)\n",
    "    \n",
    "    # remove prior file\n",
    "    os.remove(priorfile)"
   ]
  },
  {
   "cell_type": "code",
   "execution_count": null,
   "metadata": {
    "collapsed": false
   },
   "outputs": [],
   "source": [
    "colors = ['r', 'g', 'b']\n",
    "\n",
    "fig = pl.figure(figsize=(8,7))\n",
    "ax = fig.gca()\n",
    "\n",
    "def fermidiracpdf(x, sigma, mu):\n",
    "    return 1./(sigma*np.log(1.+np.exp(mu/sigma))*(1.+np.exp((x-mu)/sigma)))\n",
    "\n",
    "x = np.linspace(0, 3.5e-20, 1000)\n",
    "\n",
    "for i, sigmar in enumerate(sigmars):\n",
    "    mu = sigmar[0]*sigmar[1]\n",
    "    ax.hist(samples[i], bins=40, histtype='stepfilled', color=colors[i], normed=True, alpha=0.15,\n",
    "            edgecolor='none', label=r'$\\mu = %s$, $\\sigma = %s$' % (exp_str(mu, otype='latex'), exp_str(sigmar[0], otype='latex')))\n",
    "    ax.plot(x, fermidiracpdf(x, sigmar[0], mu), color=colors[i], linewidth=2)\n",
    "\n",
    "ax.legend(loc='best')\n",
    "ax.set_xlim((x[0], x[-1]))\n",
    "ax.set_ylabel('Probability Density Function')\n",
    "ax.set_xlabel('Parameter')\n",
    "\n",
    "if not os.path.isdir('../figures/priors/fermidirac'):\n",
    "    os.makedirs('../figures/priors/fermidirac')\n",
    "\n",
    "fig.savefig('../figures/priors/fermidirac/fermidirac.png', dpi=300)\n",
    "fig.savefig('../figures/priors/fermidirac/fermidirac.pdf')\n",
    "# convert to eps\n",
    "p = sp.Popen('pdftops -eps ../figures/priors/fermidirac/fermidirac.pdf ../figures/priors/fermidirac/fermidirac.eps', stdout=sp.PIPE, stderr=sp.PIPE, shell=True)\n",
    "out, err = p.communicate()\n",
    "\n",
    "# write out caption\n",
    "fp = open('../figures/priors/fermidirac/caption.tex', 'w')\n",
    "fp.write(\"\"\"\\label{fig:priorfermidirac}\n",
    "Samples drawn from three Fermi-Dirac prior distribution, with the given $\\mu$ and $\\sigma$ values.\n",
    "\"\"\")\n",
    "fp.close()"
   ]
  },
  {
   "cell_type": "markdown",
   "metadata": {},
   "source": [
    "## Gaussian prior\n",
    "\n",
    "A Gaussian prior distribution with a mean of 0.2 and a standard deviation of 0.1"
   ]
  },
  {
   "cell_type": "code",
   "execution_count": null,
   "metadata": {
    "collapsed": true
   },
   "outputs": [],
   "source": [
    "# set the prior file\n",
    "priorfile = 'priorfunc.prior'\n",
    "fp = open(priorfile, 'w')\n",
    "prior = \"COSIOTA gaussian 0.2 0.1\"\n",
    "fp.write(prior)\n",
    "fp.close()\n",
    "\n",
    "# run code\n",
    "p = sp.Popen(codecall.format(ppenexec, parfile, priorfile, N, N), stdout=sp.PIPE, stderr=sp.PIPE, shell=True)\n",
    "out, err = p.communicate()\n",
    "\n",
    "# read in the samples\n",
    "samples, evsig, evnoise = pulsar_nest_to_posterior('samples.hdf', nestedsamples=True)\n",
    "\n",
    "# remove prior file\n",
    "os.remove(priorfile)"
   ]
  },
  {
   "cell_type": "code",
   "execution_count": null,
   "metadata": {
    "collapsed": true
   },
   "outputs": [],
   "source": [
    "# plot samples\n",
    "fig = pl.figure(figsize=(8,7))\n",
    "ax = fig.gca()\n",
    "\n",
    "ax.hist(samples['cosiota'].samples, bins=40, histtype='stepfilled', alpha=0.15, color='r', normed=True, edgecolor='none')\n",
    "\n",
    "# over plot analytical distribution\n",
    "x = np.linspace(-0.4, 0.6, 1000)\n",
    "rv = stats.norm(loc=0.2, scale=0.1)\n",
    "ax.plot(x, rv.pdf(x), color='r', linewidth=2)\n",
    "ax.set_xlim((x[0], x[-1]))\n",
    "ax.set_ylabel('Probability Density Function')\n",
    "ax.set_xlabel('Parameter')\n",
    "\n",
    "if not os.path.isdir('../figures/priors/gaussian'):\n",
    "    os.makedirs('../figures/priors/gaussian')\n",
    "\n",
    "fig.savefig('../figures/priors/gaussian/gaussian.png', dpi=300)\n",
    "fig.savefig('../figures/priors/gaussian/gaussian.pdf')\n",
    "# convert to eps\n",
    "p = sp.Popen('pdftops -eps ../figures/priors/gaussian/gaussian.pdf ../figures/priors/gaussian/gaussian.eps', stdout=sp.PIPE, stderr=sp.PIPE, shell=True)\n",
    "out, err = p.communicate()\n",
    "\n",
    "# write out caption\n",
    "fp = open('../figures/priors/gaussian/caption.tex', 'w')\n",
    "fp.write(\"\"\"\\label{fig:priorgaussian}\n",
    "Samples drawn from the Gaussian prior distribution.\n",
    "\"\"\")\n",
    "fp.close()"
   ]
  },
  {
   "cell_type": "markdown",
   "metadata": {},
   "source": [
    "## Gaussian mixture model\n",
    "\n",
    "A couple of Gaussian mixture model prior distributions. One with two modes and another with three modes."
   ]
  },
  {
   "cell_type": "code",
   "execution_count": null,
   "metadata": {
    "collapsed": true
   },
   "outputs": [],
   "source": [
    "# set the prior file\n",
    "modes = []\n",
    "modes.append({'means': [0.1, 0.4], 'sigmas': [0.15, 0.2], 'weights': [2.0, 4.0]})\n",
    "modes.append({'means': [-0.1, 0.05, 0.2], 'sigmas': [0.02, 0.1, 0.05], 'weights': [8.0, 2.0, 4.5]})\n",
    "\n",
    "samples = []\n",
    "\n",
    "for mode in modes:\n",
    "    priorfile = 'priorfunc.prior'\n",
    "    fp = open(priorfile, 'w')\n",
    "    modeformat = \"%d \" % (len(mode['means']))\n",
    "    for i in range(len(mode['means'])):\n",
    "        modeformat += \"%.2f %.2f %.2f \" % (mode['means'][i], mode['sigmas'][i], mode['weights'][i]) \n",
    "    prior = \"COSIOTA gmm {}\"\n",
    "    fp.write(prior.format(modeformat))\n",
    "    fp.close()\n",
    "\n",
    "    # run code\n",
    "    p = sp.Popen(codecall.format(ppenexec, parfile, priorfile, N, N), stdout=sp.PIPE, stderr=sp.PIPE, shell=True)\n",
    "    out, err = p.communicate()\n",
    "\n",
    "    # read in the samples\n",
    "    thissamples, evsig, evnoise = pulsar_nest_to_posterior('samples.hdf', nestedsamples=True)\n",
    "\n",
    "    # remove prior file\n",
    "    os.remove(priorfile)\n",
    "    samples.append(thissamples['c22'].samples)"
   ]
  },
  {
   "cell_type": "code",
   "execution_count": null,
   "metadata": {
    "collapsed": true
   },
   "outputs": [],
   "source": [
    "colors = ['r', 'b']\n",
    "\n",
    "fig = pl.figure(figsize=(8,7))\n",
    "ax = fig.gca()\n",
    "\n",
    "def gmmpdf(x, modes):\n",
    "    gp = np.zero(len(x))\n",
    "    for i in range(len(modes['means']))\n",
    "        mu = modes['means'][i]\n",
    "        sigma = modes['sigmas'][i]\n",
    "        weight = modes['weights'][i]\n",
    "        rv = stats.normal(loc=mu, scale=sigma) # create mode\n",
    "        gp += weight*rv.pdf(x) # weight each mode\n",
    "\n",
    "    # re-normalise\n",
    "    return gp/np.trapz(gp, x)\n",
    "\n",
    "x = np.linspace(-0.2, 0.6, 1000)\n",
    "\n",
    "for sample in samples:\n",
    "    ax.hist(sample, bins=40, histtype='stepfilled', color=colors[i], normed=True, alpha=0.15, edgecolor='none')\n",
    "    ax.plot(x, gmmpdf(x, sigmar[0], mu), color=colors[i], linewidth=2)\n",
    "\n",
    "ax.legend(loc='best')\n",
    "ax.set_xlim((x[0], x[-1]))\n",
    "ax.set_ylabel('Probability Density Function')\n",
    "ax.set_xlabel('Parameter')\n",
    "\n",
    "if not os.path.isdir('../figures/priors/gmm'):\n",
    "    os.makedirs('../figures/priors/gmm')\n",
    "\n",
    "fig.savefig('../figures/priors/gmm/gmm.png', dpi=300)\n",
    "fig.savefig('../figures/priors/gmm/gmm.pdf')\n",
    "# convert to eps\n",
    "p = sp.Popen('pdftops -eps ../figures/priors/gmm/gmm.pdf ../figures/priors/gmm/gmm.eps', stdout=sp.PIPE, stderr=sp.PIPE, shell=True)\n",
    "out, err = p.communicate()\n",
    "\n",
    "# write out caption\n",
    "fp = open('../figures/priors/gmm/caption.tex', 'w')\n",
    "fp.write(\"\"\"\\label{fig:priorgmm}\n",
    "Samples drawn from two different Gaussian mixture model prior distributions.\n",
    "\"\"\")\n",
    "fp.close()"
   ]
  },
  {
   "cell_type": "markdown",
   "metadata": {},
   "source": [
    "## log-Uniform distribution\n",
    "\n",
    "A prior distribution that is uniform in log-space"
   ]
  },
  {
   "cell_type": "code",
   "execution_count": null,
   "metadata": {
    "collapsed": true
   },
   "outputs": [],
   "source": [
    "# set the prior file\n",
    "priorfile = 'priorfunc.prior'\n",
    "fp = open(priorfile, 'w')\n",
    "prior = \"COSIOTA loguniform 1e-3 1.0\"\n",
    "fp.write(prior)\n",
    "fp.close()\n",
    "\n",
    "# run code\n",
    "p = sp.Popen(codecall.format(ppenexec, parfile, priorfile, N, N), stdout=sp.PIPE, stderr=sp.PIPE, shell=True)\n",
    "out, err = p.communicate()\n",
    "\n",
    "# read in the samples\n",
    "samples, evsig, evnoise = pulsar_nest_to_posterior('samples.hdf', nestedsamples=True)\n",
    "\n",
    "# remove prior file\n",
    "os.remove(priorfile)"
   ]
  },
  {
   "cell_type": "code",
   "execution_count": null,
   "metadata": {
    "collapsed": true
   },
   "outputs": [],
   "source": [
    "# plot samples\n",
    "fig = pl.figure(figsize=(8,7))\n",
    "ax = fig.gca()\n",
    "\n",
    "ax.hist(samples['cosiota'].samples, bins=40, histtype='stepfilled', alpha=0.15, color='r', normed=True, edgecolor='none')\n",
    "\n",
    "# over plot analytical distribution\n",
    "x = np.linspace(0., 1, 1000)\n",
    "rv = stats.uniform(loc=1e-3, scale=(1.-1e-3))\n",
    "ax.plot(x, rv.pdf(x), color='r', linewidth=2)\n",
    "ax.set_xscale('log')\n",
    "ax.set_ylabel('Probability Density Function')\n",
    "ax.set_xlabel('Parameter')\n",
    "\n",
    "if not os.path.isdir('../figures/priors/loguniform'):\n",
    "    os.makedirs('../figures/priors/loguniform')\n",
    "\n",
    "fig.savefig('../figures/priors/loguniform/loguniform.png', dpi=300)\n",
    "fig.savefig('../figures/priors/loguniform/loguniform.pdf')\n",
    "# convert to eps\n",
    "p = sp.Popen('pdftops -eps ../figures/priors/loguniform/loguniform.pdf ../figures/priors/loguniform/loguniform.eps', stdout=sp.PIPE, stderr=sp.PIPE, shell=True)\n",
    "out, err = p.communicate()\n",
    "\n",
    "# write out caption\n",
    "fp = open('../figures/priors/loguniform/caption.tex', 'w')\n",
    "fp.write(\"\"\"\\label{fig:priorloguniform}\n",
    "Samples drawn from the log-uniform prior distribution.\n",
    "\"\"\")\n",
    "fp.close()"
   ]
  },
  {
   "cell_type": "code",
   "execution_count": null,
   "metadata": {
    "collapsed": true
   },
   "outputs": [],
   "source": [
    "# clean up files\n",
    "os.remove(priorfile)\n",
    "os.remove(parfile)\n",
    "os.remove('samples.hdf')"
   ]
  }
 ],
 "metadata": {
  "kernelspec": {
   "display_name": "Python 2",
   "language": "python",
   "name": "python2"
  },
  "language_info": {
   "codemirror_mode": {
    "name": "ipython",
    "version": 2
   },
   "file_extension": ".py",
   "mimetype": "text/x-python",
   "name": "python",
   "nbconvert_exporter": "python",
   "pygments_lexer": "ipython2",
   "version": "2.7.12"
  }
 },
 "nbformat": 4,
 "nbformat_minor": 0
}
