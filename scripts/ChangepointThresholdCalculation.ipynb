{
 "cells": [
  {
   "cell_type": "markdown",
   "metadata": {},
   "source": [
    "# Calculating the threshold for splitting data\n",
    "\n",
    "The code will automatically split a data time series up into periods that it considers as stationary. To do this some odds threshold must be set for saying whether to split the data or not. This script derives the threshold for splitting data based on empirical simulations of Gaussian noise."
   ]
  },
  {
   "cell_type": "code",
   "execution_count": 20,
   "metadata": {
    "collapsed": false
   },
   "outputs": [
    {
     "name": "stdout",
     "output_type": "stream",
     "text": [
      "The Cython extension is already loaded. To reload it, use:\n",
      "  %reload_ext Cython\n"
     ]
    }
   ],
   "source": [
    "%matplotlib inline\n",
    "%load_ext Cython\n",
    "\n",
    "from __future__ import print_function, division\n",
    "\n",
    "import numpy as np\n",
    "from math import lgamma\n",
    "from scipy.interpolate import interp1d\n",
    "import subprocess as sp\n",
    "import os\n",
    "\n",
    "import matplotlib as mpl\n",
    "from matplotlib import pyplot as pl\n",
    "\n",
    "# some matplotlib configurations\n",
    "mplparams = { \\\n",
    "      'backend': 'Agg',\n",
    "      'text.usetex': True, # use LaTeX for all text\n",
    "      'axes.linewidth': 0.5, # set axes linewidths to 0.5\n",
    "      'axes.grid': True, # add a grid\n",
    "      'grid.linewidth': 0.5,\n",
    "      'font.family': 'sans-serif',\n",
    "      'font.sans-serif': 'Avant Garde, Helvetica, Computer Modern Sans serif',\n",
    "      'font.size': 16 }\n",
    "\n",
    "mpl.rcParams.update(mplparams)"
   ]
  },
  {
   "cell_type": "code",
   "execution_count": 2,
   "metadata": {
    "collapsed": false
   },
   "outputs": [],
   "source": [
    "%%cython\n",
    "\n",
    "import numpy as np\n",
    "cimport numpy as np\n",
    "\n",
    "DTYPE = np.float64\n",
    "ctypedef np.float64_t DTYPE_t\n",
    "\n",
    "cdef extern from \"math.h\":\n",
    "    double log(double x)\n",
    "    double exp(double x)\n",
    "    int isinf(double x)\n",
    "\n",
    "cpdef logplus(double x, double y):\n",
    "    cdef double z = np.inf\n",
    "    if isinf(x) and isinf(y) and (x < 0) and (y < 0):\n",
    "        z = -np.inf\n",
    "    elif (x > y) and not (isinf(x) and isinf(y)):\n",
    "        z = x + log(1. + exp(y - x))\n",
    "    elif (x <= y) and not (isinf(x) and isinf(y)):\n",
    "        z = y + log(1. + exp(x - y))\n",
    "    return z\n",
    "    \n",
    "cpdef find_change_st( int length, int minlength, np.ndarray[DTYPE_t, ndim=1] lfact ):\n",
    "    # Looks to see if there are any change points in the times series based on\n",
    "    # changes in the noise standard deviation. It computes the odds ratio of\n",
    "    # the time series being compose of data with a single standard deviation,\n",
    "    # compared to it being a times series with two distinct standard\n",
    "    # deviations. The log odds ratio is returned as well as the index of the\n",
    "    # change point.\n",
    "\n",
    "    # get length of time series\n",
    "    cdef int N = length\n",
    "\n",
    "    cdef double lpi = log(np.pi);\n",
    "    cdef double nlog2 = log(2.);\n",
    "\n",
    "    cdef int changepoint = 2*minlength\n",
    "    cdef double lodds = -np.inf\n",
    "    cdef double logtot = -np.inf\n",
    "    cdef double log_single = -np.inf\n",
    "    \n",
    "    # can't split the data if it's shorter than twice the minimum length\n",
    "    if N < 2*minlength:\n",
    "        return lodds, changepoint, logtot, log_single, -np.inf\n",
    "\n",
    "    cdef np.ndarray ts = np.random.randn(N, 2) # generate random numbers\n",
    "    ts2 = ts**2 # square array\n",
    "\n",
    "    # compute the probability for the data being defined by a single standard deviation\n",
    "    log_single = lfact[N-1] - nlog2 - N*lpi - N*(np.log(np.sum(ts[:,0]**2) + np.sum(ts[:,1]**2)))\n",
    "\n",
    "    # for all possible change points in the data calculate the respective probabilities\n",
    "    cdef np.ndarray log_double = np.zeros(N-2*minlength+1, dtype=DTYPE)\n",
    "    logtot = -np.inf;\n",
    "    \n",
    "    sts1 = np.sum(ts2[0:minlength-1,0]) + np.sum(ts2[0:minlength-1,1])\n",
    "    sts2 = np.sum(ts2[minlength-1:,0]) + np.sum(ts2[minlength-1:,1])\n",
    "    \n",
    "    # loop through all possible combinations of a single change point, only\n",
    "    # allowing chunks of minlength or greater\n",
    "    for i in range(minlength,N-minlength+1):\n",
    "        ln1 = i\n",
    "        ln2 = N-i\n",
    "    \n",
    "        idx = i-minlength;\n",
    "    \n",
    "        thists = ts2[i-1,0] + ts2[i-1,1]\n",
    "        sts1 = sts1 + thists\n",
    "        sts2 = sts2 - thists\n",
    "    \n",
    "        log1 = lfact[ln1-1] - nlog2 - ln1*lpi - ln1*(log(sts1))\n",
    "        log2 = lfact[ln2-1] - nlog2 - ln2*lpi - ln2*(log(sts2))\n",
    "    \n",
    "        log_double[idx] = log1 + log2;\n",
    "\n",
    "        # get total probability for any change point being good\n",
    "        logtot = logplus(logtot, log_double[idx])\n",
    "\n",
    "    # get odds ratio\n",
    "    r = logtot - log_single;\n",
    "\n",
    "    lodds = r\n",
    "    changepoint = np.argmax(log_double)\n",
    "    changepoint = changepoint + minlength - 1\n",
    "\n",
    "    return lodds, changepoint, logtot, log_single, log_double"
   ]
  },
  {
   "cell_type": "code",
   "execution_count": 11,
   "metadata": {
    "collapsed": false
   },
   "outputs": [],
   "source": [
    "Ns = [30, 100, 200, 500, 1000, 2000, 5000, 10000]\n",
    "\n",
    "# log factorial\n",
    "lfact = np.zeros(max(Ns))\n",
    "for i in range(1,max(Ns)):\n",
    "    lfact[i] = lgamma(i+1)\n",
    "\n",
    "Ntests = 30000\n",
    "minchange = 5\n",
    "\n",
    "# false alarm probabilities for splitting data 1%, 0.5% and 0.1%\n",
    "faps = [0.01, 0.005, 0.001];\n",
    "\n",
    "lofaps = np.zeros((len(Ns), len(faps)));\n",
    "\n",
    "lodds = np.zeros(Ntests)\n",
    "\n",
    "nbins = 1000\n",
    "\n",
    "for i in range(len(Ns)):\n",
    "    for j in range(Ntests):\n",
    "        lodds[j], a, b, c, d = find_change_st(Ns[i], minchange, lfact)\n",
    "\n",
    "    n, ob = np.histogram(lodds, bins=nbins);\n",
    "    cn = np.cumsum(n, dtype=np.float)/Ntests\n",
    "    ucn, icn = np.unique(cn, return_index=True)\n",
    "    \n",
    "    for j in range(len(faps)):\n",
    "        f = interp1d(ucn, ob[icn], kind='cubic')\n",
    "        lofaps[i,j] = f(1-faps[j])"
   ]
  },
  {
   "cell_type": "code",
   "execution_count": 23,
   "metadata": {
    "collapsed": false
   },
   "outputs": [
    {
     "data": {
      "image/png": "[encoded data removed]",
      "text/plain": [
       "<matplotlib.figure.Figure at 0x7f031ecfb7d0>"
      ]
     },
     "metadata": {},
     "output_type": "display_data"
    }
   ],
   "source": [
    "fig = pl.figure(figsize=(8,8))\n",
    "\n",
    "ns = np.linspace(1., np.log10(20000.), 3)\n",
    "\n",
    "colors = ['b', 'r', 'k']\n",
    "\n",
    "for i, fap in enumerate(faps):\n",
    "    pl.plot(np.log10(Ns), lofaps[:,i], label=r'${\\rm FAP}~%.1f\\%%$' % (100.*fap), marker='o', ls='none', color=colors[i])\n",
    "    p = np.polyfit(np.log10(Ns), lofaps[:,i], deg=1)\n",
    "    pl.plot(ns, p[1] + ns*p[0], ls='--', color=colors[i], label='$%.1f+%.1f\\log{}_{10}(N)$' % (p[1], p[0]))\n",
    "\n",
    "ax = pl.gca()\n",
    "ax.set_xlim([ns[0], ns[-1]])\n",
    "ax.set_xlabel('$\\log{}_{10} N$')\n",
    "ax.set_ylabel('Odds Threshold')\n",
    "ax.grid(True)\n",
    "ax.legend(loc='upper left')\n",
    "\n",
    "if not os.path.isdir('../figures/changepoint'):\n",
    "    os.makedirs('../figures/changepoint')\n",
    "\n",
    "fig.savefig('../figures/changepoint/changepoint.png', dpi=300)\n",
    "fig.savefig('../figures/changepoint/changepoint.pdf')\n",
    "# convert to eps\n",
    "p = sp.Popen('pdftops -eps ../figures/changepoint/changepoint.pdf ../figures/changepoint/changepoint.eps', stdout=sp.PIPE, stderr=sp.PIPE, shell=True)\n",
    "out, err = p.communicate()\n",
    "\n",
    "# write out caption\n",
    "fp = open('../figures/changepoint/caption.tex', 'w')\n",
    "fp.write(\"\"\"\\label{fig:changepoint}\n",
    "The odds threshold as a function of data length for three different false alarm probabilities calculated for\n",
    "multiple realisations of simulated Gaussian noise. \n",
    "\"\"\")\n",
    "fp.close()"
   ]
  },
  {
   "cell_type": "code",
   "execution_count": 13,
   "metadata": {
    "collapsed": true
   },
   "outputs": [],
   "source": [
    "p = np.polyfit(np.log10(Ns), lofaps[:,0], deg=1)"
   ]
  },
  {
   "cell_type": "code",
   "execution_count": 14,
   "metadata": {
    "collapsed": false
   },
   "outputs": [
    {
     "data": {
      "text/plain": [
       "array([ 1.33187413,  4.01555472])"
      ]
     },
     "execution_count": 14,
     "metadata": {},
     "output_type": "execute_result"
    }
   ],
   "source": [
    "p"
   ]
  },
  {
   "cell_type": "code",
   "execution_count": null,
   "metadata": {
    "collapsed": true
   },
   "outputs": [],
   "source": []
  }
 ],
 "metadata": {
  "kernelspec": {
   "display_name": "Python 2",
   "language": "python",
   "name": "python2"
  },
  "language_info": {
   "codemirror_mode": {
    "name": "ipython",
    "version": 2
   },
   "file_extension": ".py",
   "mimetype": "text/x-python",
   "name": "python",
   "nbconvert_exporter": "python",
   "pygments_lexer": "ipython2",
   "version": "2.7.12"
  }
 },
 "nbformat": 4,
 "nbformat_minor": 2
}
