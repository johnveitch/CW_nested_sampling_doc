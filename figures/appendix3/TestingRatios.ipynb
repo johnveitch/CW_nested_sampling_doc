{
 "cells": [
  {
   "cell_type": "code",
   "execution_count": 46,
   "metadata": {
    "collapsed": true
   },
   "outputs": [],
   "source": [
    "%matplotlib inline\n",
    "\n",
    "import numpy as np\n",
    "import matplotlib as mpl\n",
    "from matplotlib import pyplot as pl\n",
    "from scipy.misc import logsumexp\n",
    "\n",
    "mplparams = { \\\n",
    "      'backend': 'Agg',\n",
    "      'text.usetex': True, # use LaTeX for all text\n",
    "      'axes.linewidth': 0.5, # set axes linewidths to 0.5\n",
    "      'axes.grid': True, # add a grid\n",
    "      'grid.linewidth': 0.5,\n",
    "      'font.family': 'sans-serif',\n",
    "      'font.sans-serif': 'Avant Garde, Helvetica, Computer Modern Sans serif',\n",
    "      'font.size': 17 }\n",
    "\n",
    "mpl.rcParams.update(mplparams)\n",
    "\n",
    "def logtrapz(lnf, dx):\n",
    "    return np.log(dx/2.) + logsumexp([logsumexp(lnf[:-1]), logsumexp(lnf[1:])])"
   ]
  },
  {
   "cell_type": "markdown",
   "metadata": {},
   "source": [
    "# Signal vs. Noise and Coherent vs. Incoherent odds\n",
    "\n",
    "This note book is to look at how we might expect odds values (ratios of evidences) to vary with signal-to-noise ratio. We will take the simple case of two Gaussian datasets both of the same length ($N = 100$) and standard deviation, $\\sigma$. Both datasets contains a mean offset of $\\mu_h = 5$, and we are concerned with a search over the mean parameter. We want to calculate two things: the odds for a mean offset versus the data being Gaussian noise with a known mean of zero; and, the odds for both datasets containing the same mean offset (a coherent signal) versus them containing two independent mean offsets (an incoherent signal). We can try and work out what to expect analytically, and then see if that's actually the case.\n",
    "\n",
    "To set up the situation, we have the two datasets $d_1$ and $d_2$, which have likelihoods given by\n",
    "$$\n",
    "p(d_j|\\mu) = \\left(\\frac{1}{2\\pi\\sigma^2}\\right)^{(N/2)} \\exp{\\left(-\\frac{\\sum_i^N (d_{j,i}-\\mu_i)^2}{2\\sigma^2}\\right)},\n",
    "$$\n",
    "and priors on $\\mu$ given by $p(\\mu)$, which we will take as constant (i.e. a flat prior). We will also use the fact that $d_{j,i} = \\mu_t + n_{j,i}$ where $n_{j,i}$ is a value drawn from a Gaussian distribution of zero mean and standard deviation $\\sigma$.\n",
    "\n",
    "The evidence is generally given by\n",
    "$$\n",
    "Z = \\int_{\\mu_{\\text{min}}}^{\\mu_{\\text{max}}} p(d|\\mu) p(\\mu) {\\text{d}\\mu}.\n",
    "$$\n",
    "\n",
    "## Coherent signal vs. noise odds\n",
    "\n",
    "For large signal-to-noise ratios (SNRs) the relation between signal versus noise evidence for Gaussian noise is a well known thing, but we'll write it out here. Formally, for our two data steams, we have\n",
    "$$\n",
    "\\mathcal{O} = \\frac{Z_{S}}{Z_{N}} = (2\\pi\\sigma^2)^{-N} \\frac{p(\\mu)}{Z_{N}} \\int_{\\mu_{\\text{min}}}^{\\mu_{\\text{max}}} p(d_1|\\mu) p(d_2|\\mu) {\\text{d}\\mu}.\n",
    "$$\n",
    "We find that for high SNR the integral\n",
    "$$\n",
    "\\int_{\\mu_{\\text{min}}}^{\\mu_{\\text{max}}} p(d|\\mu) \\text{d}\\mu \\approx p(d|\\mu=\\mu_{t/\\text{ML}}) \\left(\\frac{2\\pi\\sigma^2}{N} \\right)^{1/2},\n",
    "$$\n",
    "where $p(d|\\mu=\\mu_{t/\\text{ML}})$ is the likelihood at the true/maximum likelihood value of $\\mu$. This value, for the joint datasets, can be seen to be\n",
    "$$\n",
    "p(\\{d\\}|\\mu=\\mu_{t/\\text{ML}}) = \\left(\\frac{1}{2\\pi\\sigma^2}\\right)^{N} \\exp{\\left(-\\frac{1}{2\\sigma^2}\\sum_i^N \\left[(d_{1,i} - \\mu_t)^2 + (d_{2,i} - \\mu_t)^2 \\right]\\right)},\n",
    "$$\n",
    "which in turn (with $d_{j,i} = \\mu_t + n_{j,i}$) becomes\n",
    "$$\n",
    "p(\\{d\\}|\\mu=\\mu_{t/\\text{ML}}) = \\left(\\frac{1}{2\\pi\\sigma^2}\\right)^{N} \\exp{\\left(-\\frac{1}{2\\sigma^2}\\sum_i^N \\left[ n_{1,i}^2 + n_{2,i}^2 \\right]\\right)} \\approx \\left(\\frac{1}{2\\pi\\sigma^2}\\right)^{N} \\exp{(-N)},\n",
    "$$\n",
    "where we have used $\\sum_i^N n_i^2/\\sigma^2 \\approx N \\pm \\sqrt{N}$. Similarly, we have the noise evidence\n",
    "$$\n",
    "Z_N = \\left(\\frac{1}{2\\pi\\sigma^2}\\right)^{N} \\exp{\\left(-\\frac{1}{2\\sigma^2}\\sum_i^N \\left[2\\mu_t^2 + (n_{1,i}^2 + n_{2,i}^2) - 2\\mu_t(n_{1,i} + n_{2,i}) \\right] \\right)} \\approx \\left(\\frac{1}{2\\pi\\sigma^2}\\right)^{N}\\exp{\\left(-N - \\sum_i^N \\frac{\\mu_t^2}{\\sigma^2} \\right)},\n",
    "$$\n",
    "where we use the approximation that $\\sum_i^N \\mu_t n_{j,i} \\approx 0$. So, the odds becomes\n",
    "$$\n",
    "\\mathcal{O} \\approx \\left(\\frac{2\\pi\\sigma^2}{N} \\right)^{1/2}p(\\mu)\\exp{\\left(\\sum_i^N \\frac{\\mu_t^2}{\\sigma^2}\\right)},\n",
    "$$\n",
    "where we can also say that the single dataset SNR is defined as $\\rho^2 = \\sum_i^N \\mu_t^2/\\sigma^2 = N\\left(\\mu_t/\\sigma\\right)^2$, and in this case $\\rho_{\\text{coh}} = \\sqrt{2}\\rho$ , and we can see that if we take the natural logarithm of this that\n",
    "$$\n",
    "\\ln{\\mathcal{O}} = \\ln{(p(\\mu))} + \\frac{1}{2}\\ln{\\left(\\frac{2\\pi\\sigma^2}{N}\\right)} + \\frac{1}{2}\\rho_{\\text{coh}}^2.\n",
    "$$\n",
    "We see here that the log odds is proportional to $\\rho^2$, with a minor influence from the $\\ln{\\left(2\\pi\\sigma^2/N\\right)}$ term which is roughly equivalent to $\\ln{\\left(2\\pi\\rho^{-2}\\right)}$. Empirically (and probably with some mathematical justification that can be derived) this approximation seems to give the median odds value on random realisations of noise, even down to low SNR.\n",
    "\n",
    "## Coherent signal vs. incoherent signal\n",
    "\n",
    "We can define a coherent signal versus incoherent signal odds ratio as\n",
    "$$\n",
    "\\mathcal{O}^{S}_I = \\frac{Z_{\\text{coh}}}{Z_{\\text{incoh}}} = \\frac{Z_{\\{d\\}}}{Z_{d_1}Z_{d_2}}.\n",
    "$$\n",
    "Using the same approximations as above we find that\n",
    "$$\n",
    "\\mathcal{O}^{S}_I \\approx \\frac{1}{2\\sqrt{\\pi}}\\frac{1}{p(\\mu)}\\frac{\\sqrt{N}}{\\sigma}.\n",
    "$$\n",
    "In this we see that there is the Occam factor of $1/p(\\mu)$ accounting for the fact that the incoherent model has an extra parameter. We also see that this is proportional to $\\sqrt{N}/\\sigma$ which is roughly equivalent to $\\rho$.\n",
    "\n",
    "So we see that for the coherent signal versus noise odds roughly scales with $e^{\\rho^2}$, whilst the coherent signal versus incoherent signal odds roughly scales with $\\rho$, i.e. it's scaling is a lot shallower. Empirically (and probably with some mathematical justification that can be derived) this approximation seems to give the maximum odds value on random realisations of noise down to low SNR."
   ]
  },
  {
   "cell_type": "code",
   "execution_count": 32,
   "metadata": {
    "collapsed": false
   },
   "outputs": [],
   "source": [
    "# show the above scaling on some simulated datasets\n",
    "\n",
    "# set mean of data\n",
    "hmu = 5.\n",
    "\n",
    "# set standard deviations of two datasets\n",
    "sigmas = [1.0, 1.0]\n",
    "\n",
    "# set lengths of two data sets\n",
    "lengths = [100, 100]\n",
    "\n",
    "# set range of h's to search over\n",
    "hmin = 0.\n",
    "hmax = 10.\n",
    "Nh = 10000\n",
    "hs = np.linspace(hmin, hmax, Nh)\n",
    "\n",
    "# h range for lower SNR cases\n",
    "hslarge = np.linspace(-100., 100., Nh)\n",
    "\n",
    "# log of the prior\n",
    "#logprior = -np.log(hmax-hmin)\n",
    "# artificially increase the prior range to show that the two odds cross \n",
    "logprior = -np.log(1e5-0.) \n",
    "\n",
    "# noise scales to change SNR\n",
    "nscales = 1./np.logspace(-1.3, 1.3, 10)\n",
    "\n",
    "lnBCIsall = []\n",
    "lnBSNsall = []\n",
    "\n",
    "for k in range(30):\n",
    "    lnBSNs = []\n",
    "    lnBCIs = []\n",
    "    snrstot = []\n",
    "    snrsind = []\n",
    "\n",
    "    for nscale in nscales:\n",
    "        # create two data sets with Gaussian noise + hmu\n",
    "        ds = []\n",
    "        snrs = [] # signal to noise ratios\n",
    "        for i in range(2):\n",
    "            ds.append(hmu + nscale*sigmas[i]*np.random.randn(lengths[i]))\n",
    "            snrs.append(np.sqrt(lengths[i])*hmu/(nscale*sigmas[i]))\n",
    "        snrsind.append(snrs)\n",
    "        \n",
    "        snrtot = np.sqrt(np.sum(np.array(snrs)**2))\n",
    "        snrstot.append(snrtot)\n",
    "\n",
    "        # get the individual and joint log likelihoods, and noise evidences\n",
    "        loglikes = []\n",
    "        normCs = []\n",
    "        noiseZs = []\n",
    "        loglikejoint = np.zeros(Nh)\n",
    "        noiseZsjoint = 0.\n",
    "        \n",
    "        # use different hs ranges for different values\n",
    "        if nscale > 1:\n",
    "            hsv = hslarge\n",
    "        else:\n",
    "            hsv = hs\n",
    "        \n",
    "        for i in range(2):\n",
    "            loglike = np.zeros(Nh)\n",
    "            normCs.append(-(lengths[i]/2.)*np.log(2.*np.pi*(nscale*sigmas[i])**2))\n",
    "            for j in range(Nh):\n",
    "                loglike[j] = normCs[-1] - 0.5*np.sum((ds[i]-hsv[j])**2)/(nscale*sigmas[i])**2\n",
    "            loglikejoint += loglike\n",
    "            loglikes.append(loglike)\n",
    "            noiseZs.append(normCs[-1] - 0.5*np.sum(ds[i]**2)/(nscale*sigmas[i])**2)\n",
    "            noiseZsjoint += noiseZs[-1]\n",
    "\n",
    "        # get individual signal evidences\n",
    "        Zs = []\n",
    "        for i in range(2):\n",
    "            Zs.append(logtrapz(loglikes[i], hsv[1]-hsv[0]) + logprior)\n",
    "        Zjoint = logtrapz(loglikejoint, hsv[1]-hsv[0]) + logprior\n",
    "    \n",
    "        lnBSNs.append(Zjoint-noiseZsjoint)\n",
    "        lnBCIs.append(Zjoint - np.sum(Zs))\n",
    "    lnBCIsall.append(np.array(lnBCIs))\n",
    "    lnBSNsall.append(np.array(lnBSNs))\n",
    "    \n",
    "snrstot = np.array(snrstot)"
   ]
  },
  {
   "cell_type": "code",
   "execution_count": 47,
   "metadata": {
    "collapsed": false
   },
   "outputs": [
    {
     "data": {
      "image/png": "[encoded data removed]",
      "text/plain": [
       "<matplotlib.figure.Figure at 0x7f114338a850>"
      ]
     },
     "metadata": {},
     "output_type": "display_data"
    }
   ],
   "source": [
    "fig = pl.figure(figsize=(7, 9))\n",
    "ax1 = pl.subplot2grid((3,1), (0,0), rowspan=2)\n",
    "ax2 = pl.subplot2grid((3,1), (2,0), rowspan=1)\n",
    "\n",
    "for lnBSNsi, lnBCIsi in zip(lnBSNsall, lnBCIsall):\n",
    "    ax1.loglog(snrstot, lnBSNsi/np.log(10.), 'bo', ms=6, alpha=0.15)\n",
    "    ax1.loglog(snrstot, lnBCIsi/np.log(10.), 'co', ms=6, alpha=0.15)\n",
    "    #ax2.semilogx(snrstot, np.exp(np.array(lnBSNsi)), 'bo', ms=6, alpha=0.3)\n",
    "    ax2.plot(snrstot, np.exp(lnBCIsi), 'co', ms=6, alpha=0.15)\n",
    "ax1.loglog(snrstot, np.median(lnBSNsall, axis=0)/np.log(10.), 'bo', ms=10, alpha=0.5, label='$\\log{}_{10}\\mathcal{O}^S_N$')\n",
    "ax1.loglog(snrstot, np.max(lnBCIsall, axis=0)/np.log(10.), 'co', ms=10, alpha=0.5, label='$\\log{}_{10}\\mathcal{O}^S_I$')\n",
    "ax2.plot(snrstot, np.exp(np.max(lnBCIsall, axis=0)), 'co', ms=10, alpha=0.5)\n",
    "\n",
    "# plot the calculated approximation for the signal vs noise odds\n",
    "approxV = logprior + 0.5*np.log(2.*np.pi*(nscales*sigmas[0])**2/lengths[0]) + 0.5*np.array(snrstot)**2\n",
    "ax1.loglog(snrstot, approxV/np.log(10.), 'rv--', lw=0.5)\n",
    "#ax2.semilogx(snrstot[snrstot < 20.], np.exp(approxV[snrstot < 20.]), 'rv--', lw=0.5)\n",
    "\n",
    "# plot the calulated approximation to the coherent vs incoherent odds\n",
    "approxV = -0.5*np.log10(4.*np.pi) - (logprior/np.log(10.)) + 0.5*np.log10(lengths[0]) - np.log10(nscales*sigmas[0])\n",
    "ax1.loglog(snrstot, approxV, 'rv--', lw=0.5)\n",
    "ax2.plot(snrstot, 10**approxV, 'rv--', lw=0.5)\n",
    "\n",
    "ax1.set_yscale('symlog', linthreshy=10)\n",
    "#ax2.set_ylim([ax1.get_ylim()[0], 1.1*np.max(10**approxV)])\n",
    "ax1.grid('on')\n",
    "ax2.grid('on')\n",
    "\n",
    "ax1.grid(b=True, which='minor', color='k', linestyle='--', lw=0.5, alpha=0.25)\n",
    "ax2.grid(b=True, which='minor', color='k', linestyle='--', lw=0.5, alpha=0.25)\n",
    "\n",
    "#ax1.tick_params(axis='x', which='both', bottom='off', top='off', labelbottom='off')\n",
    "ax1.tick_params(axis='y', which='minor', left='on')\n",
    "\n",
    "yfmt = mpl.ticker.ScalarFormatter()\n",
    "yfmt.set_powerlimits((0,0))\n",
    "xfmt = mpl.ticker.ScalarFormatter()\n",
    "xfmt.set_powerlimits((0, 10))\n",
    "ax2.yaxis.set_major_formatter(yfmt)\n",
    "ax2.xaxis.set_major_formatter(xfmt)\n",
    "\n",
    "pl.draw()\n",
    "exponent_text = ax2.yaxis.get_offset_text().get_text()\n",
    "exponent_text = exponent_text.replace(r\"\\mathdefault\", \"\")\n",
    "exponent_text = exponent_text.replace(r\"\\times\", \"\")\n",
    "exponent_text = exponent_text.replace(r\"$\", \"\")\n",
    "ax2.yaxis.offsetText.set_visible(False)\n",
    "\n",
    "ax1.set_ylabel(r'$\\log{}_{10}\\mathcal{O}$')\n",
    "ax2.set_xlabel(r'$\\rho_{\\rm{coh}}$')\n",
    "\n",
    "ax2.set_ylabel(r'$\\mathcal{{O}}_I^S~({})$'.format(exponent_text))\n",
    "\n",
    "ax1.legend(loc='best')\n",
    "\n",
    "pl.tight_layout()"
   ]
  },
  {
   "cell_type": "code",
   "execution_count": 201,
   "metadata": {
    "collapsed": false
   },
   "outputs": [
    {
     "data": {
      "text/plain": [
       "array([  1.38518655e+01,   4.23452232e+01,   1.45004389e+02,\n",
       "         6.92764869e+02,   2.62859819e+03,   1.02989283e+04,\n",
       "         6.32051264e+04,   2.51431981e+05,   1.00271377e+06])"
      ]
     },
     "execution_count": 201,
     "metadata": {},
     "output_type": "execute_result"
    }
   ],
   "source": [
    "np.max(lnBSNsall, axis=0)"
   ]
  },
  {
   "cell_type": "code",
   "execution_count": 31,
   "metadata": {
    "collapsed": false
   },
   "outputs": [
    {
     "name": "stdout",
     "output_type": "stream",
     "text": [
      "[ 19.95262315  10.25914365   5.27499706   2.71227258   1.39458325\n",
      "   0.7170601    0.36869451   0.18957357   0.09747402   0.05011872]\n"
     ]
    }
   ],
   "source": [
    "print 1./np.logspace(-1.3, 1.3, 10)"
   ]
  },
  {
   "cell_type": "code",
   "execution_count": null,
   "metadata": {
    "collapsed": true
   },
   "outputs": [],
   "source": []
  }
 ],
 "metadata": {
  "kernelspec": {
   "display_name": "Python 2",
   "language": "python",
   "name": "python2"
  },
  "language_info": {
   "codemirror_mode": {
    "name": "ipython",
    "version": 2
   },
   "file_extension": ".py",
   "mimetype": "text/x-python",
   "name": "python",
   "nbconvert_exporter": "python",
   "pygments_lexer": "ipython2",
   "version": "2.7.12"
  }
 },
 "nbformat": 4,
 "nbformat_minor": 0
}
