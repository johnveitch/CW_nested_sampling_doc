{
 "cells": [
  {
   "cell_type": "markdown",
   "metadata": {},
   "source": [
    "# Testing the code on simulated noise\n",
    "\n",
    "This notebook provides tests of the `lalapps_pulsar_parameter_estimation_nested` code in comparison to the older `lalapps_pulsar_parameter_estimation` code when running on fake Gaussian noise with a simulated signal injected into it. The former code uses [nested sampling](https://en.wikipedia.org/wiki/Nested_sampling_algorithm) to sample the likelihood, whilst the latter can either use MCMC sampling of the posterior, or compute the posterior explicitly over a grid of point in the parameter space.\n",
    "\n",
    "To do the comparisons both codes are run such that they divide the data up into \"chunks\" containing 30 points each (or less if required at the end of the data), with the data assumed stationary over those 30 points. However, the `lalapps_pulsar_parameter_estimation_nested` can also be run in a way that allows it to actually calculate the length of stationary data chunks."
   ]
  },
  {
   "cell_type": "code",
   "execution_count": 1,
   "metadata": {
    "collapsed": false
   },
   "outputs": [],
   "source": [
    "# import required modules\n",
    "\n",
    "%matplotlib inline\n",
    "\n",
    "from __future__ import print_function, division\n",
    "\n",
    "import numpy as np\n",
    "from scipy.signal import fftconvolve\n",
    "import subprocess as sp\n",
    "import os\n",
    "import sys\n",
    "\n",
    "sys.path.append(\"/home/matthew/lscsoft/.virtualenvs/lalapps_knope_O2/lib/python2.7/site-packages\")\n",
    "\n",
    "from time import time\n",
    "import matplotlib as mpl\n",
    "from matplotlib import pyplot as pl\n",
    "import scotchcorner as sc\n",
    "\n",
    "# these modules require lalapps\n",
    "from lalapps.pulsarpputils import *\n",
    "\n",
    "# some matplotlib configurations\n",
    "mplparams = { \\\n",
    "      'backend': 'Agg',\n",
    "      'text.usetex': True, # use LaTeX for all text\n",
    "      'axes.linewidth': 0.5, # set axes linewidths to 0.5\n",
    "      'axes.grid': True, # add a grid\n",
    "      'grid.linewidth': 0.5,\n",
    "      'font.family': 'sans-serif',\n",
    "      'font.sans-serif': 'Avant Garde, Helvetica, Computer Modern Sans serif',\n",
    "      'font.size': 15 }\n",
    "\n",
    "mpl.rcParams.update(mplparams)"
   ]
  },
  {
   "cell_type": "code",
   "execution_count": 2,
   "metadata": {
    "collapsed": true
   },
   "outputs": [],
   "source": [
    "# define a function to work out how many effective (uncorrelated) samples the MCMC chains contain\n",
    "def independent_samples(d):\n",
    "    # get independent samples from the matrix d, where d contains an MCMC chain over a number of parameters.\n",
    "    # The maximum autocorrelation length of all the parameter is used to define the number of effective samples.\n",
    "    M = 5.\n",
    "    K = 2.\n",
    "\n",
    "    neff = []\n",
    "    for par in d.T:\n",
    "        x = par - np.mean(par)\n",
    "        y = np.conj(x[::-1])\n",
    "        z = fftconvolve(y, x, 'full')\n",
    "        z = np.fft.ifftshift(z)\n",
    "        acf = z[0:len(par)]\n",
    "        acf = acf/acf[0]\n",
    "\n",
    "        # estimate the autocorrelation length\n",
    "        acf[1:] = acf[1:]*2.\n",
    "        imax = int(len(acf)/K)\n",
    "        cacf = np.cumsum(acf)\n",
    "        s = np.arange(1, len(cacf)+1, dtype=np.float64)/float(M)\n",
    "        idxs = np.flatnonzero(cacf[:imax] < s[:imax])\n",
    "        if len(idxs) == 0:\n",
    "            acl = 1\n",
    "        else:\n",
    "            acl = s[idxs[0]]\n",
    "        neff.append(np.floor(len(par)/acl))\n",
    "\n",
    "    minneff = int(np.min(neff))\n",
    "\n",
    "    return d[np.random.permutation(d.shape[0])[0:minneff],:]"
   ]
  },
  {
   "cell_type": "code",
   "execution_count": 3,
   "metadata": {
    "collapsed": true
   },
   "outputs": [],
   "source": [
    "# set up the run directories\n",
    "rundir = '.'\n",
    "if not os.path.isdir(rundir): # make the directory\n",
    "    os.makedirs(rundir)\n",
    "\n",
    "detector = 'H1'        # the detector to use\n",
    "psrname = 'J0000+0000' # a fake pulsar name\n",
    "\n",
    "# set the output directory\n",
    "outdir = os.path.join(rundir, 'output')\n",
    "if not os.path.isdir(outdir):\n",
    "    os.makedirs(outdir)\n",
    "\n",
    "# fake heterodyned data directory (for the lalapps_pulsar_parameter_estimation code\n",
    "# this must be dataDET, where DET is e.g. H1)\n",
    "datadir = os.path.join(rundir, 'data'+detector)\n",
    "if not os.path.isdir(datadir): # make the directory\n",
    "    os.makedirs(datadir)\n",
    "\n",
    "# set the executables (this assumes that you are using virtual environments with virtualenvwrapper.sh and\n",
    "# have a WORKON_HOME environment variable set, but you can change the path as required)\n",
    "virenv = 'lalapps_knope_O2' # name of your virtual environment\n",
    "execpath = os.path.join(os.environ['WORKON_HOME'], virenv)\n",
    "execpath = os.path.join(execpath, 'bin')\n",
    "\n",
    "ppenexec = os.path.join(execpath, 'lalapps_pulsar_parameter_estimation_nested')\n",
    "n2pexec = os.path.join(execpath, 'lalapps_nest2pos') # script to convert nested samples to posterior samples\n",
    "ppeexec = os.path.join(execpath, 'lalapps_pulsar_parameter_estimation')"
   ]
  },
  {
   "cell_type": "markdown",
   "metadata": {},
   "source": [
    "## Running the codes\n",
    "\n",
    "The code is run on random Gaussian noise with zero mean and a given standard deviation. I output a comparison plot between the posteriors produced for each realisation. I compare the upper limit produced from the nested-sampling-generated posterior and that calculated from the grid-based posterior. I also compare the run times for each implementation of the codes."
   ]
  },
  {
   "cell_type": "code",
   "execution_count": 4,
   "metadata": {
    "collapsed": false
   },
   "outputs": [],
   "source": [
    "# set up some general inputs\n",
    "\n",
    "# create a pulsar parameter (TEMPO-stype .par file) file format string\n",
    "pardat = \"\"\"PSRJ J0000+0000\n",
    "RAJ {}\n",
    "DECJ {}\n",
    "F0 123.4567890\n",
    "PEPOCH 56789.0\n",
    "EPHEM DE405\n",
    "\"\"\"\n",
    "\n",
    "# some defaults for the data generation\n",
    "sigma = 1.0e-22        # set data standard deviation\n",
    "dt = 60                # number of seconds between data points\n",
    "gpsstart = 900000000   # GPS start time of data\n",
    "duration = 864000      # duration of data (seconds) - 10 days\n",
    "gpstimes = np.arange(gpsstart, gpsstart+duration, dt) # time stamps\n",
    "dlen = len(gpstimes)   # length of data\n",
    "\n",
    "# get an estimate of the 95% credible upper limit to be expected\n",
    "ulest = 10.8*np.sqrt(sigma**2/dlen)\n",
    "\n",
    "# create the signal\n",
    "pardict = {}\n",
    "pardict['h0'] = sigma\n",
    "pardict['psi'] = 0.1     # set polarisation angle\n",
    "pardict['cosiota'] = 0.3 # set inclination\n",
    "pardict['phi0'] = 1.2    # set rotational phase\n",
    "\n",
    "# create a random sky position from a uniform distribution on the sky\n",
    "pardict['ra'] = 0.7\n",
    "pardict['dec'] = -0.1\n",
    "\n",
    "# set the required SNR of the signal\n",
    "snr = 8.\n",
    "\n",
    "# generate signal\n",
    "tssig, sig = heterodyned_pulsar_signal(pardict, detector, gpsstart, duration, dt)\n",
    "\n",
    "# calculate SNR\n",
    "snropt = get_optimal_snr(sig[0], sigma)\n",
    "\n",
    "# scale signal to required SNR\n",
    "sig[0] = sig[0]*(snr/snropt)\n",
    "\n",
    "h0true = sigma*(snr/snropt) # the new h0 value\n",
    "\n",
    "# upper range of prior\n",
    "h0max = h0true + ulest*10.\n",
    "\n",
    "# create the prior file for the lalapps_pulsar_parameter_estimation_nested code\n",
    "# (PHI0 in here is rotational phase, whereas for the older code it is GW phase for trixial emission l=m=2)\n",
    "priorfile = os.path.join(rundir, 'pulsar.prior')\n",
    "priordat = \"\"\"H0 uniform 0 {}\n",
    "PHI0 uniform 0 {}\n",
    "PSI uniform {} {}\n",
    "COSIOTA uniform -1 1\n",
    "\"\"\"\n",
    "fp = open(priorfile, 'w')\n",
    "fp.write(priordat.format(h0max, np.pi, -np.pi/4., np.pi/4.))\n",
    "fp.close()\n",
    "\n",
    "# lalapps_pulsar_parameter_estimation_nested run parameters\n",
    "Nlive = '2048' # number of nested sample live points\n",
    "\n",
    "# lalapps_pulsar_parameter_estimation (MCMC) run parameters\n",
    "iterations = '500000' # number of MCMC iterations after burn-in\n",
    "burnin = '100000'     # number of MCMC iterations for burn-in\n",
    "\n",
    "# lalapps_pulsar_parameter_estimation (grid) run parameters\n",
    "h0steps = '80' # number of grid points for each parameter\n",
    "psisteps = '40'\n",
    "phi0steps = '40'\n",
    "cosiotasteps = '40'\n",
    "h0maxs = '%.5e' % (h0max) # maximum range of h0 values\n",
    "h0ulc = '95'                # % credible h0 upper limit to output"
   ]
  },
  {
   "cell_type": "code",
   "execution_count": 5,
   "metadata": {
    "collapsed": false
   },
   "outputs": [
    {
     "name": "stdout",
     "output_type": "stream",
     "text": [
      "Read columns ['COSIOTA', 'H0', 'PHI0', 'PSI', 'deltalogL', 'deltaloglH1', 'logL', 'logPrior', 'logw', 'C22', 'CGW', 'F0', 'PHI0VECTOR', 'PHI22', 'PEPOCH', 'FREQNUM', 'PHI21', 'C21', 'DEC', 'PMRA', 'HPLUS', 'I31', 'Q22', 'HSCALARL', 'POSEPOCH', 'DIST', 'I21', 'PSITENSOR', 'IOTA', 'HSCALARB', 'PHI0TENSOR', 'HCROSS', 'PMDEC', 'COSTHETA', 'PX', 'RA', 'df', 'THETA', 'PSIVECTOR', 'F0_FIXED', 'HVECTORY', 'HVECTORX', 'PHI0SCALAR', 'PSISCALAR', 'LAMBDA']\n"
     ]
    }
   ],
   "source": [
    "# create data\n",
    "data = sigma*np.random.randn(dlen, 2)\n",
    "\n",
    "# add signal to data\n",
    "data[:,0] = data[:,0] + sig[0].real\n",
    "data[:,1] = data[:,1] + sig[0].imag\n",
    "\n",
    "# append times and data together\n",
    "tad = np.vstack((gpstimes, data.T)).T\n",
    "\n",
    "# output fake data\n",
    "datafile = os.path.join(datadir, 'finehet_'+psrname+'_'+detector)\n",
    "np.savetxt(datafile, tad, fmt='%.6f %.7e %.7e', delimiter='\\t')\n",
    "    \n",
    "rah, ram, ras = rad_to_hms(pardict['ra'])\n",
    "decd, decm, decs = rad_to_dms(pardict['dec'])\n",
    "\n",
    "# output .par file containing right ascension and declination\n",
    "parfile = os.path.join(rundir, 'pulsar.par')\n",
    "fp = open(parfile, 'w')\n",
    "fp.write(pardat.format(coord_to_string(rah, ram, ras), coord_to_string(decd, decm, decs)))\n",
    "fp.close()\n",
    "    \n",
    "# run lalapps_pulsar_parameter_estimation_nested\n",
    "codecall = ' '.join([ppenexec, '--detectors', detector,\n",
    "                     '--par-file', parfile, '--prior-file', priorfile,\n",
    "                     '--input-files', datafile, '--outfile', os.path.join(outdir, 'fake_nest.hdf'),\n",
    "                     '--gzip', '--Nlive', Nlive, '--Nmcmcinitial', '0', '--oldChunks'])\n",
    "t0 = time()\n",
    "p = sp.Popen(codecall, stdout=sp.PIPE, stderr=sp.PIPE, shell=True)\n",
    "out, err = p.communicate()\n",
    "t1 = time()\n",
    "timenested = (t1-t0)\n",
    "    \n",
    "# nested samples need to be converted to posterior samples with lalapps_nest2pos\n",
    "if os.path.isfile(os.path.join(outdir, 'fake_post.hdf')):\n",
    "    os.remove(os.path.join(outdir, 'fake_post.hdf'))\n",
    "codecall = ' '.join([n2pexec, '-p', os.path.join(outdir, 'fake_post.hdf'), os.path.join(outdir, 'fake_nest.hdf')])\n",
    "p = sp.Popen(codecall, stdout=sp.PIPE, stderr=sp.PIPE, shell=True)\n",
    "out, err = p.communicate()\n",
    "    \n",
    "# get h0 upper limit from \n",
    "post, evsig, evnoise = pulsar_nest_to_posterior(os.path.join(outdir, 'fake_post.hdf'))\n",
    "h0ul = upper_limit_greedy(post['h0'].samples, upperlimit=(float(h0ulc)/100.))\n",
    "    \n",
    "h0ulnested = (h0ul)\n",
    "evratnested = (evsig-evnoise)\n",
    "    \n",
    "# run lalapps_pulsar_parameter_estimation in MCMC mode\n",
    "codecall = ' '.join([ppeexec, '--detectors', detector,\n",
    "                     '--pulsar', psrname, '--par-file', parfile, '--input-dir', rundir,\n",
    "                     '--output-dir', outdir, '--mcmc', '--iterations', iterations,\n",
    "                     '--burn-in', burnin, '--psi-bins', '1000', '--time-bins', '1440'])\n",
    "t0 = time()\n",
    "p = sp.Popen(codecall, stdout=sp.PIPE, stderr=sp.PIPE, shell=True)\n",
    "out, err = p.communicate()\n",
    "t1 = time()\n",
    "timemcmc = (t1-t0)\n",
    "\n",
    "# run lalapps_pulsar_parameter_estimation in grid mode\n",
    "# delete any previously created evidence file as things get appended to it\n",
    "evfile = os.path.join(outdir, 'evidence_%s' % psrname)\n",
    "if os.path.isfile(evfile):\n",
    "    os.remove(evfile)\n",
    "\n",
    "codecall = ' '.join([ppeexec, '--detectors', detector,\n",
    "                     '--pulsar', psrname, '--par-file', parfile, '--input-dir', rundir,\n",
    "                     '--output-dir', outdir, '--psi-bins', '1000', '--time-bins', '1440',\n",
    "                     '--h0steps', h0steps, '--maxh0', h0maxs, '--phi0steps', phi0steps,\n",
    "                     '--psisteps', psisteps, '--cisteps', cosiotasteps, '--dob-ul', h0ulc])\n",
    "    \n",
    "t0 = time()\n",
    "p = sp.Popen(codecall, stdout=sp.PIPE, stderr=sp.PIPE, shell=True)\n",
    "out, err = p.communicate()\n",
    "t1 = time()\n",
    "timegrid = (t1-t0)\n",
    "\n",
    "# read in evidence ratio and h0 upper limit produced by grid\n",
    "evfile = os.path.join(outdir, 'evidence_%s' % psrname)\n",
    "# evidence at end of first line, UL at end of second\n",
    "fp = open(evfile, 'r')\n",
    "evlines = fp.readlines()\n",
    "h0ulgrid = float((evlines[-1].split())[-1])\n",
    "evratgrid = float((evlines[-2].split())[-1])\n",
    "\n",
    "# correct evidence as lalapps_pulsar_parameter_estimation does not apply the h0 and cos(iota) priors\n",
    "# and also account for lalapps_pulsar_parameter_estimation using a 2pi phi0 range rather than pi\n",
    "evratgrid = evratgrid - np.log(h0max) - np.log(2.) + np.log(np.pi)"
   ]
  },
  {
   "cell_type": "code",
   "execution_count": 6,
   "metadata": {
    "collapsed": false
   },
   "outputs": [
    {
     "name": "stdout",
     "output_type": "stream",
     "text": [
      "Read columns ['COSIOTA', 'H0', 'PHI0', 'PSI', 'deltalogL', 'deltaloglH1', 'logL', 'logPrior', 'logw', 'C22', 'CGW', 'F0', 'PHI0VECTOR', 'PHI22', 'PEPOCH', 'FREQNUM', 'PHI21', 'C21', 'DEC', 'PMRA', 'HPLUS', 'I31', 'Q22', 'HSCALARL', 'POSEPOCH', 'DIST', 'I21', 'PSITENSOR', 'IOTA', 'HSCALARB', 'PHI0TENSOR', 'HCROSS', 'PMDEC', 'COSTHETA', 'PX', 'RA', 'df', 'THETA', 'PSIVECTOR', 'F0_FIXED', 'HVECTORY', 'HVECTORX', 'PHI0SCALAR', 'PSISCALAR', 'LAMBDA']\n",
      "Number of independent MCMC samples is 293 from 500000\n"
     ]
    }
   ],
   "source": [
    "# lalapps_pulsar_parameter_estimation_nested posterior samples\n",
    "postppen, Z, N = pulsar_nest_to_posterior(os.path.join(outdir, 'fake_post.hdf'))\n",
    "postppemcmc = np.loadtxt(os.path.join(outdir, 'MCMCchain_%s_%s' % (psrname, detector)), comments='%')\n",
    "\n",
    "# get independent MCMC samples\n",
    "postmcmcind = independent_samples(postppemcmc[:,1:])\n",
    "ppemcmcidxs = {'h0': 0, 'phi0': 1, 'cosiota': 2, 'psi': 3}\n",
    "print(\"Number of independent MCMC samples is %d from %s\" % (postmcmcind.shape[0], postppemcmc.shape[0]))"
   ]
  },
  {
   "cell_type": "code",
   "execution_count": 7,
   "metadata": {
    "collapsed": false
   },
   "outputs": [
    {
     "name": "stdout",
     "output_type": "stream",
     "text": [
      "Difference in upper limits:\n",
      "h0 upper limit (nested) = 1.04e-22\n",
      "h0 upper limit (grid) = 1.03e-22\n",
      "h0 upper limit ratio = 1.004\n",
      "percentage difference = 0.39\n",
      "\n",
      "\n",
      "Difference in evidence ratios:\n",
      "log(evidence ratio) (nested) = 3.12e+01\n",
      "log(evidence ratio) (grid) = 3.10e+01\n",
      "log(Z_nested/Z_grid) = 0.245\n"
     ]
    }
   ],
   "source": [
    "print(\"Difference in upper limits:\")\n",
    "print(\"h0 upper limit (nested) = %.2e\" % h0ulnested)\n",
    "print(\"h0 upper limit (grid) = %.2e\" % h0ulgrid)\n",
    "print(\"h0 upper limit ratio = %.3f\" % (h0ulnested/h0ulgrid))\n",
    "print(\"percentage difference = %.2f\" % (100.*np.abs(h0ulnested-h0ulgrid)/h0ulnested))\n",
    "print(\"\\n\")\n",
    "print(\"Difference in evidence ratios:\")\n",
    "print(\"log(evidence ratio) (nested) = %.2e\" % evratnested)\n",
    "print(\"log(evidence ratio) (grid) = %.2e\" % evratgrid)\n",
    "print(\"log(Z_nested/Z_grid) = %.3f\" % (evratnested-evratgrid))"
   ]
  },
  {
   "cell_type": "code",
   "execution_count": 8,
   "metadata": {
    "collapsed": false
   },
   "outputs": [
    {
     "name": "stdout",
     "output_type": "stream",
     "text": [
      "Number of independent MCMC samples is 293 from 500000\n"
     ]
    },
    {
     "data": {
      "image/png": "[encoded data removed]",
      "text/plain": [
       "<matplotlib.figure.Figure at 0x7f1b7fecf210>"
      ]
     },
     "metadata": {},
     "output_type": "display_data"
    }
   ],
   "source": [
    "params = ['h0', 'phi0', 'cosiota', 'psi']\n",
    "\n",
    "# true parameters\n",
    "truths = [h0true, 2.*pardict['phi0'], pardict['cosiota'], pardict['psi']]\n",
    "\n",
    "# lalapps_pulsar_parameter_estimation_nested posterior samples in known order\n",
    "postppen2 = np.zeros((len(postppen['h0'].samples), len(params)))\n",
    "postmcmc2 = np.zeros(postmcmcind.shape)\n",
    "for i, p in enumerate(params):\n",
    "    if 'phi0' in p:\n",
    "        parscale = 2. # scale to GW phase\n",
    "    else:\n",
    "        parscale = 1.\n",
    "    postppen2[:,i] = parscale*postppen[p].samples[:,0]\n",
    "    \n",
    "    # sort MCMC results into the same order as the nested samples\n",
    "    postmcmc2[:,i] = postmcmcind[:,ppemcmcidxs[p]]\n",
    "\n",
    "histops = {'histtype': 'step', 'color': 'b', 'edgecolor': 'b', 'linewidth': 1.5, 'alpha': 1.0}\n",
    "contourops = {'colors': 'darkblue'}\n",
    "labels = ['$h_0$', '$\\phi_0$ (rads)', '$\\cos{\\iota}$', '$\\psi$ (rads)']\n",
    "limits = [(0., None), (0., 2.*np.pi), (-1., 1.), (-np.pi/4., np.pi/4.)]\n",
    "\n",
    "postmcmcind = independent_samples(postppemcmc[:,1:])\n",
    "ppemcmcidxs = {'h0': 0, 'phi0': 1, 'cosiota': 2, 'psi': 3}\n",
    "print(\"Number of independent MCMC samples is %d from %s\" % (postmcmcind.shape[0], postppemcmc.shape[0]))\n",
    "\n",
    "# plot with scotchcorner\n",
    "spp = sc.scotchcorner(postppen2, bins=20, ratio=1, labels=labels, datatitle='Nested sampling', showlims='both', hist_kwargs=histops,\n",
    "                     showcontours=True, limits=limits, showpoints=True, scatter_kwargs={'alpha': 0.01},\n",
    "                     contour_limits=limits, contour_levels=[0.5, 0.9], contour_kwargs=contourops,\n",
    "                     truths=truths, truths_kwargs={'color': 'green'})\n",
    "\n",
    "histops = {'histtype': 'step', 'color': 'red', 'edgecolor': 'red', 'linewidth': 1.5, 'alpha': 1.0}\n",
    "contourops = {'colors': 'darkred'}\n",
    "spp.add_data(postmcmc2, hist_kwargs=histops, datatitle='MCMC', scatter_kwargs={'alpha': 0.01}, showcontours=True,\n",
    "            contour_levels=[0.5, 0.9], limits=limits, contour_kwargs=contourops,contour_limits=limits,\n",
    "            show_level_labels=False)\n",
    "\n",
    "# add grid based posteriors\n",
    "for i, p in enumerate(['h0', 'phi', 'ciota', 'psi']):\n",
    "    pdffile = os.path.join(outdir, 'pdf_%s.%s.%s' % (p, psrname, detector))\n",
    "    pdfdata = np.loadtxt(pdffile)\n",
    "    ax = spp.get_axis(labels[i])\n",
    "    if i < 3:\n",
    "        ax.plot(pdfdata[:,0], pdfdata[:,1], 'k--')\n",
    "    else:\n",
    "        ax.plot(pdfdata[:,1], pdfdata[:,0], 'k--')\n",
    "\n",
    "spp.savefig('simulatedsignaltest.pdf')\n",
    "spp.fig.savefig('simulatedsignaltest.png', dpi=300)"
   ]
  },
  {
   "cell_type": "code",
   "execution_count": 11,
   "metadata": {
    "collapsed": false
   },
   "outputs": [
    {
     "name": "stdout",
     "output_type": "stream",
     "text": [
      "h0 KS-test p-value: 0.236876818036\n",
      "phi0 KS-test p-value: 0.290845126768\n",
      "cosiota KS-test p-value: 0.124674104499\n",
      "psi KS-test p-value: 0.17516365466\n"
     ]
    }
   ],
   "source": [
    "from scipy.stats import ks_2samp\n",
    "for i, p in enumerate(params):\n",
    "    D, pv = ks_2samp(postppen2[:,i], postmcmc2[:,i])\n",
    "    print(\"{} KS-test p-value: {}\".format(p, pv))"
   ]
  }
 ],
 "metadata": {
  "kernelspec": {
   "display_name": "Python 2",
   "language": "python",
   "name": "python2"
  },
  "language_info": {
   "codemirror_mode": {
    "name": "ipython",
    "version": 2
   },
   "file_extension": ".py",
   "mimetype": "text/x-python",
   "name": "python",
   "nbconvert_exporter": "python",
   "pygments_lexer": "ipython2",
   "version": "2.7.12"
  }
 },
 "nbformat": 4,
 "nbformat_minor": 0
}
